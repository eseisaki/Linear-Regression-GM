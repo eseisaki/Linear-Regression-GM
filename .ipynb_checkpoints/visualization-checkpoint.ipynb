{
 "cells": [
  {
   "cell_type": "code",
   "execution_count": null,
   "metadata": {
    "pycharm": {
     "is_executing": true,
     "name": "#%%\n"
    },
    "tags": [
     "hide-cell"
    ]
   },
   "outputs": [],
   "source": [
    "import warnings\n",
    "warnings.filterwarnings(\"ignore\")\n",
    "import constants as const\n",
    "import matplotlib.pyplot as plt\n",
    "import glob as glob\n",
    "import numpy as np\n",
    "import pandas as pd"
   ]
  },
  {
   "cell_type": "code",
   "execution_count": null,
   "metadata": {
    "pycharm": {
     "is_executing": true,
     "name": "#%%\n"
    },
    "tags": [
     "hide-cell"
    ]
   },
   "outputs": [],
   "source": [
    "def import_metric(file, name):\n",
    "    df = pd.read_csv(file,names=[name,\"time\"])\n",
    "    return df"
   ]
  },
  {
   "cell_type": "code",
   "execution_count": null,
   "metadata": {
    "pycharm": {
     "is_executing": true
    },
    "tags": [
     "hide-cell"
    ]
   },
   "outputs": [],
   "source": [
    "def static_part_of_name(nodes, features, error, window, epoch):\n",
    "    return \"k\"+str(nodes)+\"_ft\"+str(features)+\"_e\"+str(error)+\"_win\"+str(window)+\"_ep\"+str(epoch)"
   ]
  },
  {
   "cell_type": "code",
   "execution_count": null,
   "metadata": {
    "pycharm": {
     "is_executing": true
    },
    "tags": [
     "hide-cell"
    ]
   },
   "outputs": [],
   "source": [
    "\n",
    "def plot_metrics(gm_list, fgm_list,label_list, y_title:str, metric):\n",
    "    \n",
    "    fig, ax = plt.subplots(nrows=1, ncols=2, figsize=(20, 5))\n",
    "    \n",
    "    for i in range(len(label_list)):\n",
    "        ax[0].plot(gm_list[i][\"time\"],gm_list[i][y_title].fillna(method='ffill'), label=metric+\"=\"+label_list[i],linewidth=3)\n",
    "        ax[1].plot(fgm_list[i][\"time\"],fgm_list[i][y_title].fillna(method='ffill'),label=metric+\"=\"+label_list[i],linewidth=3)\n",
    "    \n",
    "    \n",
    "    for i in range(2):\n",
    "        #adjust plot interface\n",
    "        ax[i].legend(fontsize=18)\n",
    "        ax[i].grid(True,linestyle='dashdot', color='grey')\n",
    "        ax[i].tick_params(labelcolor='red', labelsize=15,pad=10,direction = 'inout', width=3)\n",
    "        # set axis titles\n",
    "        ax[i].set_xlabel(\"unit time\",fontsize=20)\n",
    "        ax[i].set_ylabel(y_title,fontsize=20)\n",
    "    # set central titles\n",
    "    ax[0].set_title(\"GM\",fontsize=25,pad =15)\n",
    "    ax[1].set_title(\"FGM\",fontsize=25,pad =15)\n",
    "\n"
   ]
  },
  {
   "cell_type": "code",
   "execution_count": null,
   "metadata": {
    "pycharm": {
     "is_executing": true
    }
   },
   "outputs": [],
   "source": [
    "def plot_simple_diagram(filename, y_title, title):\n",
    "    data = import_metric(filename,y_title)\n",
    "    \n",
    "    fig, ax = plt.subplots(figsize=(20, 5))\n",
    "    \n",
    "    ax.plot(data[\"time\"], data[y_title],linewidth=3) \n",
    "    \n",
    "    ax.legend(fontsize=18)\n",
    "    ax.grid(True,linestyle='dashdot', color='grey')\n",
    "    ax.tick_params(labelcolor='red', labelsize=15,pad=10,direction = 'inout', width=3)\n",
    "    # set axis titles\n",
    "    ax.set_xlabel(\"unit time\",fontsize=20)\n",
    "    ax.set_ylabel(y_title,fontsize=20)\n",
    "    # set central titles\n",
    "    ax.set_title(title, size=25,pad =15)\n",
    "    \n",
    "    "
   ]
  },
  {
   "cell_type": "code",
   "execution_count": null,
   "metadata": {
    "pycharm": {
     "is_executing": true
    },
    "tags": [
     "hide-cell"
    ]
   },
   "outputs": [],
   "source": [
    "def plot_accuracy( data:str, metric:str, nodes:int, features:int, error:int, window:int, epoch:int, tempo:int):\n",
    "    \n",
    "    gm_list =[]\n",
    "    fgm_list =[]\n",
    "    label_list=[]\n",
    "       \n",
    "    y_title = \"regret\" if (data ==\"drift\")  else \"mae\"\n",
    "        \n",
    "    if metric==\"nodes\":\n",
    "        \n",
    "       \n",
    "        for i in range(10,nodes+1,tempo):\n",
    "            filename = \"io_files/gm/\"+ data +\"/\"+ metric +\"/\"+ y_title +\"/\"+ static_part_of_name(nodes=i,\n",
    "                                            features=features,error=error,window=window,epoch=epoch)+\".csv\"\n",
    "            gm_list.append(import_metric(filename,y_title))\n",
    "\n",
    "            filename = \"io_files/fgm/\"+ data +\"/\"+ metric +\"/\"+ y_title +\"/\"+ static_part_of_name(nodes=i,\n",
    "                                            features=features,error=error,window=window,epoch=epoch)+\".csv\"\n",
    "            fgm_list.append(import_metric(filename, y_title))\n",
    "            label_list.append(str(i))\n",
    "           \n",
    "    elif metric==\"features\": \n",
    "        i=10\n",
    "        for i in range(10,features+1,tempo):\n",
    "            filename = \"io_files/gm/\"+ data +\"/\"+ metric +\"/\"+ y_title +\"/\"+ static_part_of_name(nodes=nodes,\n",
    "                                            features=i,error=error,window=window,epoch=epoch)+\".csv\"\n",
    "            gm_list.append(import_metric(filename,y_title))\n",
    "\n",
    "            filename = \"io_files/fgm/\"+ data +\"/\"+ metric +\"/\"+ y_title +\"/\"+ static_part_of_name(nodes=nodes,\n",
    "                                            features=i,error=error,window=window,epoch=epoch)+\".csv\"\n",
    "            fgm_list.append(import_metric(filename, y_title))\n",
    "            label_list.append(str(i))\n",
    "           \n",
    "    elif metric==\"error\":\n",
    "        i=1\n",
    "        for i in range(10,error+1,tempo):\n",
    "            custom_i = i*0.01\n",
    "            filename = \"io_files/gm/\"+ data +\"/\"+ metric +\"/\"+ y_title +\"/\"+ static_part_of_name(nodes=nodes,\n",
    "                                            features=features,error=custom_i,window=window,epoch=epoch)+\".csv\"\n",
    "            gm_list.append(import_metric(filename,y_title))\n",
    "\n",
    "            filename = \"io_files/fgm/\"+ data +\"/\"+ metric +\"/\"+ y_title +\"/\"+ static_part_of_name(nodes=nodes,\n",
    "                                            features=features,error=custom_i,window=window,epoch=epoch)+\".csv\"\n",
    "            fgm_list.append(import_metric(filename, y_title))\n",
    "            label_list.append(str(i))\n",
    "            \n",
    "    elif metric==\"window\":\n",
    "        i=100\n",
    "        for i in range(10,window+1,tempo):\n",
    "            filename = \"io_files/gm/\"+ data +\"/\"+ metric +\"/\"+ y_title +\"/\"+ static_part_of_name(nodes=nodes,\n",
    "                                            features=features,error=error,window=i,epoch=epoch)+\".csv\"\n",
    "            gm_list.append(import_metric(filename,y_title))\n",
    "\n",
    "            filename = \"io_files/fgm/\"+ data +\"/\"+ metric +\"/\"+ y_title +\"/\"+ static_part_of_name(nodes=nodes,\n",
    "                                            features=features,error=error,window=i,epoch=epoch)+\".csv\"\n",
    "            fgm_list.append(import_metric(filename, y_title))\n",
    "            label_list.append(str(i))\n",
    "           \n",
    "    else:\n",
    "        raise Exception(\"Wrong metric: \" + metric)\n",
    "\n",
    "    plot_metrics( gm_list, fgm_list, label_list, y_title, metric) "
   ]
  },
  {
   "cell_type": "code",
   "execution_count": null,
   "metadata": {
    "pycharm": {
     "is_executing": true
    },
    "tags": [
     "hide-cell"
    ]
   },
   "outputs": [],
   "source": [
    "def plot_rounds( data:str, metric:str, nodes:int, features:int, error:int, window:int, epoch:int, tempo:int):\n",
    "    \n",
    "    gm_list =[]\n",
    "    fgm_list =[]\n",
    "    label_list=[]\n",
    "       \n",
    "    y_title = \"rounds\"\n",
    "        \n",
    "    if metric==\"nodes\":\n",
    "        \n",
    "       \n",
    "        for i in range(10,nodes+1,tempo):\n",
    "            filename = \"io_files/gm/\"+ data +\"/\"+ metric +\"/\"+ y_title +\"/\"+ static_part_of_name(nodes=i,\n",
    "                                            features=features,error=error,window=window,epoch=epoch)+\".csv\"\n",
    "            gm_list.append(import_metric(filename,y_title))\n",
    "\n",
    "            filename = \"io_files/fgm/\"+ data +\"/\"+ metric +\"/\"+ y_title +\"/\"+ static_part_of_name(nodes=i,\n",
    "                                            features=features,error=error,window=window,epoch=epoch)+\".csv\"\n",
    "            fgm_list.append(import_metric(filename, y_title))\n",
    "            label_list.append(str(i))\n",
    "           \n",
    "    elif metric==\"features\": \n",
    "        i=10\n",
    "        for i in range(10,features+1,tempo):\n",
    "            filename = \"io_files/gm/\"+ data +\"/\"+ metric +\"/\"+ y_title +\"/\"+ static_part_of_name(nodes=nodes,\n",
    "                                            features=i,error=error,window=window,epoch=epoch)+\".csv\"\n",
    "            gm_list.append(import_metric(filename,y_title))\n",
    "\n",
    "            filename = \"io_files/fgm/\"+ data +\"/\"+ metric +\"/\"+ y_title +\"/\"+ static_part_of_name(nodes=nodes,\n",
    "                                            features=i,error=error,window=window,epoch=epoch)+\".csv\"\n",
    "            fgm_list.append(import_metric(filename, y_title))\n",
    "            label_list.append(str(i))\n",
    "           \n",
    "    elif metric==\"error\":\n",
    "        i=1\n",
    "        for i in range(10,error+1,tempo):\n",
    "            custom_i = i*0.01\n",
    "            filename = \"io_files/gm/\"+ data +\"/\"+ metric +\"/\"+ y_title +\"/\"+ static_part_of_name(nodes=nodes,\n",
    "                                            features=features,error=custom_i,window=window,epoch=epoch)+\".csv\"\n",
    "            gm_list.append(import_metric(filename,y_title))\n",
    "\n",
    "            filename = \"io_files/fgm/\"+ data +\"/\"+ metric +\"/\"+ y_title +\"/\"+ static_part_of_name(nodes=nodes,\n",
    "                                            features=features,error=custom_i,window=window,epoch=epoch)+\".csv\"\n",
    "            fgm_list.append(import_metric(filename, y_title))\n",
    "            label_list.append(str(i))\n",
    "            \n",
    "    elif metric==\"window\":\n",
    "        i=100\n",
    "        for i in range(10,window+1,tempo):\n",
    "            filename = \"io_files/gm/\"+ data +\"/\"+ metric +\"/\"+ y_title +\"/\"+ static_part_of_name(nodes=nodes,\n",
    "                                            features=features,error=error,window=i,epoch=epoch)+\".csv\"\n",
    "            gm_list.append(import_metric(filename,y_title))\n",
    "\n",
    "            filename = \"io_files/fgm/\"+ data +\"/\"+ metric +\"/\"+ y_title +\"/\"+ static_part_of_name(nodes=nodes,\n",
    "                                            features=features,error=error,window=i,epoch=epoch)+\".csv\"\n",
    "            fgm_list.append(import_metric(filename, y_title))\n",
    "            label_list.append(str(i))\n",
    "           \n",
    "    else:\n",
    "        raise Exception(\"Wrong metric: \" + metric)\n",
    "\n",
    "    plot_metrics( gm_list, fgm_list, label_list, y_title, metric)"
   ]
  },
  {
   "cell_type": "code",
   "execution_count": null,
   "metadata": {
    "pycharm": {
     "is_executing": true
    },
    "tags": [
     "hide-cell"
    ]
   },
   "outputs": [],
   "source": [
    "def plot_traffic( data:str, metric:str, nodes:int, features:int, error:int, window:int, epoch:int, tempo:int):\n",
    "    \n",
    "    gm_list =[]\n",
    "    fgm_list =[]\n",
    "    label_list=[]\n",
    "       \n",
    "    y_title = \"traffic\"\n",
    "        \n",
    "    if metric==\"nodes\":\n",
    "        \n",
    "       \n",
    "        for i in range(10,nodes+1,tempo):\n",
    "            filename = \"io_files/gm/\"+ data +\"/\"+ metric +\"/\"+ y_title +\"/\"+ static_part_of_name(nodes=i,\n",
    "                                            features=features,error=error,window=window,epoch=epoch)+\".csv\"\n",
    "            gm_list.append(import_metric(filename,y_title))\n",
    "\n",
    "            filename = \"io_files/fgm/\"+ data +\"/\"+ metric +\"/\"+ y_title +\"/\"+ static_part_of_name(nodes=i,\n",
    "                                            features=features,error=error,window=window,epoch=epoch)+\".csv\"\n",
    "            fgm_list.append(import_metric(filename, y_title))\n",
    "            label_list.append(str(i))\n",
    "           \n",
    "    elif metric==\"features\": \n",
    "        i=10\n",
    "        for i in range(10,features+1,tempo):\n",
    "            filename = \"io_files/gm/\"+ data +\"/\"+ metric +\"/\"+ y_title +\"/\"+ static_part_of_name(nodes=nodes,\n",
    "                                            features=i,error=error,window=window,epoch=epoch)+\".csv\"\n",
    "            gm_list.append(import_metric(filename,y_title))\n",
    "\n",
    "            filename = \"io_files/fgm/\"+ data +\"/\"+ metric +\"/\"+ y_title +\"/\"+ static_part_of_name(nodes=nodes,\n",
    "                                            features=i,error=error,window=window,epoch=epoch)+\".csv\"\n",
    "            fgm_list.append(import_metric(filename, y_title))\n",
    "            label_list.append(str(i))\n",
    "           \n",
    "    elif metric==\"error\":\n",
    "        i=1\n",
    "        for i in range(10,error+1,tempo):\n",
    "            custom_i = i*0.01\n",
    "            filename = \"io_files/gm/\"+ data +\"/\"+ metric +\"/\"+ y_title +\"/\"+ static_part_of_name(nodes=nodes,\n",
    "                                            features=features,error=custom_i,window=window,epoch=epoch)+\".csv\"\n",
    "            gm_list.append(import_metric(filename,y_title))\n",
    "\n",
    "            filename = \"io_files/fgm/\"+ data +\"/\"+ metric +\"/\"+ y_title +\"/\"+ static_part_of_name(nodes=nodes,\n",
    "                                            features=features,error=custom_i,window=window,epoch=epoch)+\".csv\"\n",
    "            fgm_list.append(import_metric(filename, y_title))\n",
    "            label_list.append(str(i))\n",
    "            \n",
    "    elif metric==\"window\":\n",
    "        i=100\n",
    "        for i in range(10,window+1,tempo):\n",
    "            filename = \"io_files/gm/\"+ data +\"/\"+ metric +\"/\"+ y_title +\"/\"+ static_part_of_name(nodes=nodes,\n",
    "                                            features=features,error=error,window=i,epoch=epoch)+\".csv\"\n",
    "            gm_list.append(import_metric(filename,y_title))\n",
    "\n",
    "            filename = \"io_files/fgm/\"+ data +\"/\"+ metric +\"/\"+ y_title +\"/\"+ static_part_of_name(nodes=nodes,\n",
    "                                            features=features,error=error,window=i,epoch=epoch)+\".csv\"\n",
    "            fgm_list.append(import_metric(filename, y_title))\n",
    "            label_list.append(str(i))\n",
    "           \n",
    "    else:\n",
    "        raise Exception(\"Wrong metric: \" + metric)\n",
    "\n",
    "    plot_metrics( gm_list, fgm_list, label_list, y_title, metric)"
   ]
  },
  {
   "cell_type": "code",
   "execution_count": null,
   "metadata": {
    "pycharm": {
     "is_executing": true
    },
    "tags": [
     "hide-cell"
    ]
   },
   "outputs": [],
   "source": [
    "def plot_upstream_traffic( data:str, metric:str, nodes:int, features:int, error:int, window:int, epoch:int, tempo:int):\n",
    "    \n",
    "    gm_list =[]\n",
    "    fgm_list =[]\n",
    "    label_list=[]\n",
    "       \n",
    "    y_title = \"upstream\"\n",
    "        \n",
    "    if metric==\"nodes\":\n",
    "        \n",
    "       \n",
    "        for i in range(10,nodes+1,tempo):\n",
    "            filename = \"io_files/gm/\"+ data +\"/\"+ metric +\"/\"+ y_title +\"/\"+ static_part_of_name(nodes=i,\n",
    "                                            features=features,error=error,window=window,epoch=epoch)+\".csv\"\n",
    "            gm_list.append(import_metric(filename,y_title))\n",
    "\n",
    "            filename = \"io_files/fgm/\"+ data +\"/\"+ metric +\"/\"+ y_title +\"/\"+ static_part_of_name(nodes=i,\n",
    "                                            features=features,error=error,window=window,epoch=epoch)+\".csv\"\n",
    "            fgm_list.append(import_metric(filename, y_title))\n",
    "            label_list.append(str(i))\n",
    "           \n",
    "    elif metric==\"features\": \n",
    "        i=10\n",
    "        for i in range(10,features+1,tempo):\n",
    "            filename = \"io_files/gm/\"+ data +\"/\"+ metric +\"/\"+ y_title +\"/\"+ static_part_of_name(nodes=nodes,\n",
    "                                            features=i,error=error,window=window,epoch=epoch)+\".csv\"\n",
    "            gm_list.append(import_metric(filename,y_title))\n",
    "\n",
    "            filename = \"io_files/fgm/\"+ data +\"/\"+ metric +\"/\"+ y_title +\"/\"+ static_part_of_name(nodes=nodes,\n",
    "                                            features=i,error=error,window=window,epoch=epoch)+\".csv\"\n",
    "            fgm_list.append(import_metric(filename, y_title))\n",
    "            label_list.append(str(i))\n",
    "           \n",
    "    elif metric==\"error\":\n",
    "        i=1\n",
    "        for i in range(10,error+1,tempo):\n",
    "            custom_i = i*0.01\n",
    "            filename = \"io_files/gm/\"+ data +\"/\"+ metric +\"/\"+ y_title +\"/\"+ static_part_of_name(nodes=nodes,\n",
    "                                            features=features,error=custom_i,window=window,epoch=epoch)+\".csv\"\n",
    "            gm_list.append(import_metric(filename,y_title))\n",
    "\n",
    "            filename = \"io_files/fgm/\"+ data +\"/\"+ metric +\"/\"+ y_title +\"/\"+ static_part_of_name(nodes=nodes,\n",
    "                                            features=features,error=custom_i,window=window,epoch=epoch)+\".csv\"\n",
    "            fgm_list.append(import_metric(filename, y_title))\n",
    "            label_list.append(str(i))\n",
    "            \n",
    "    elif metric==\"window\":\n",
    "        i=100\n",
    "        for i in range(10,window+1,tempo):\n",
    "            filename = \"io_files/gm/\"+ data +\"/\"+ metric +\"/\"+ y_title +\"/\"+ static_part_of_name(nodes=nodes,\n",
    "                                            features=features,error=error,window=i,epoch=epoch)+\".csv\"\n",
    "            gm_list.append(import_metric(filename,y_title))\n",
    "\n",
    "            filename = \"io_files/fgm/\"+ data +\"/\"+ metric +\"/\"+ y_title +\"/\"+ static_part_of_name(nodes=nodes,\n",
    "                                            features=features,error=error,window=i,epoch=epoch)+\".csv\"\n",
    "            fgm_list.append(import_metric(filename, y_title))\n",
    "            label_list.append(str(i))\n",
    "           \n",
    "    else:\n",
    "        raise Exception(\"Wrong metric: \" + metric)\n",
    "\n",
    "    plot_metrics( gm_list, fgm_list, label_list, y_title, metric)"
   ]
  },
  {
   "cell_type": "markdown",
   "metadata": {
    "pycharm": {
     "name": "#%% md\n"
    }
   },
   "source": [
    "### Diagrams for accuracy: "
   ]
  },
  {
   "cell_type": "code",
   "execution_count": null,
   "metadata": {
    "pycharm": {
     "is_executing": true,
     "name": "#%%\n"
    }
   },
   "outputs": [],
   "source": [
    "plot_accuracy( data=\"drift\", metric=\"nodes\", nodes=10, features=10, error=5, window=2000, epoch=4, tempo=1)"
   ]
  },
  {
   "cell_type": "markdown",
   "metadata": {
    "pycharm": {
     "name": "#%% md\n"
    }
   },
   "source": [
    "### Diagrams for rounds:"
   ]
  },
  {
   "cell_type": "code",
   "execution_count": null,
   "metadata": {
    "pycharm": {
     "is_executing": true,
     "name": "#%%\n"
    }
   },
   "outputs": [],
   "source": [
    "plot_rounds( data=\"fixed\", metric=\"nodes\", nodes=50, features=10, error=5, window=2000, epoch=1, tempo=20)"
   ]
  },
  {
   "cell_type": "markdown",
   "metadata": {
    "pycharm": {
     "name": "#%% md\n"
    }
   },
   "source": [
    "### Diagrams for total traffic (in bytes):"
   ]
  },
  {
   "cell_type": "code",
   "execution_count": null,
   "metadata": {
    "pycharm": {
     "is_executing": true,
     "name": "#%%\n"
    }
   },
   "outputs": [],
   "source": [
    "plot_traffic( data=\"fixed\", metric=\"nodes\", nodes=50, features=10, error=5, window=2000, epoch=1, tempo=20)"
   ]
  },
  {
   "cell_type": "markdown",
   "metadata": {
    "pycharm": {
     "name": "#%% md\n"
    }
   },
   "source": [
    "### Diagrams for upstream traffic (in bytes):"
   ]
  },
  {
   "cell_type": "code",
   "execution_count": null,
   "metadata": {
    "pycharm": {
     "is_executing": true,
     "name": "#%%\n"
    },
    "scrolled": true
   },
   "outputs": [],
   "source": [
    "plot_upstream_traffic( data=\"fixed\", metric=\"nodes\", nodes=50, features=10, error=5, window=2000, epoch=1, tempo=20)"
   ]
  },
  {
   "cell_type": "markdown",
   "metadata": {},
   "source": [
    "### Other diagrams (for debugging):"
   ]
  },
  {
   "cell_type": "code",
   "execution_count": 12,
   "metadata": {
    "pycharm": {
     "is_executing": true
    }
   },
   "outputs": [
    {
     "name": "stderr",
     "output_type": "stream",
     "text": [
      "No handles with labels found to put in legend.\n"
     ]
    },
    {
     "data": {
      "image/png": "[encoded data removed]",
      "text/plain": [
       "<Figure size 1440x360 with 1 Axes>"
      ]
     },
     "metadata": {
      "needs_background": "light"
     },
     "output_type": "display_data"
    }
   ],
   "source": [
    "plot_simple_diagram(filename=\"io_files/gm/drift/nodes/regret/k10_ft10_e4_win2000_ep4.csv\", y_title=\"regret\", title=\"Accuracy for central\")"
   ]
  },
  {
   "cell_type": "code",
   "execution_count": null,
   "metadata": {
    "pycharm": {
     "is_executing": true
    }
   },
   "outputs": [],
   "source": []
  }
 ],
 "metadata": {
  "hide_input": false,
  "kernelspec": {
   "display_name": "Python 3",
   "language": "python",
   "name": "python3"
  },
  "language_info": {
   "codemirror_mode": {
    "name": "ipython",
    "version": 3
   },
   "file_extension": ".py",
   "mimetype": "text/x-python",
   "name": "python",
   "nbconvert_exporter": "python",
   "pygments_lexer": "ipython3",
   "version": "3.8.2"
  },
  "toc": {
   "base_numbering": 1,
   "nav_menu": {},
   "number_sections": true,
   "sideBar": true,
   "skip_h1_title": false,
   "title_cell": "Table of Contents",
   "title_sidebar": "Contents",
   "toc_cell": false,
   "toc_position": {
    "height": "calc(100% - 180px)",
    "left": "10px",
    "top": "150px",
    "width": "194.575px"
   },
   "toc_section_display": true,
   "toc_window_display": true
  }
 },
 "nbformat": 4,
 "nbformat_minor": 1
}
