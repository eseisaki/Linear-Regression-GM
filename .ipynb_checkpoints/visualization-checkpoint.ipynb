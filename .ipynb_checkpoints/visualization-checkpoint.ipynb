{
 "cells": [
  {
   "cell_type": "code",
   "execution_count": 10,
   "metadata": {
    "pycharm": {
     "is_executing": true,
     "name": "#%%\n"
    },
    "tags": [
     "hide-cell"
    ]
   },
   "outputs": [],
   "source": [
    "import warnings\n",
    "warnings.filterwarnings(\"ignore\")\n",
    "import constants as const\n",
    "import matplotlib.pyplot as plt\n",
    "import glob as glob\n",
    "import numpy as np\n",
    "import pandas as pd"
   ]
  },
  {
   "cell_type": "code",
   "execution_count": 11,
   "metadata": {
    "pycharm": {
     "is_executing": true,
     "name": "#%%\n"
    },
    "tags": [
     "hide-cell"
    ]
   },
   "outputs": [],
   "source": [
    "def import_metric(file, name):\n",
    "    df = pd.read_csv(file,names=[name,\"time\"])\n",
    "    return df"
   ]
  },
  {
   "cell_type": "code",
   "execution_count": 12,
   "metadata": {
    "tags": [
     "hide-cell"
    ]
   },
   "outputs": [],
   "source": [
    "def static_part_of_name(nodes, features, error, window, epoch):\n",
    "    return \"k\"+str(nodes)+\"_ft\"+str(features)+\"_e\"+str(error)+\"_win\"+str(window)+\"_ep\"+str(epoch)"
   ]
  },
  {
   "cell_type": "code",
   "execution_count": 13,
   "metadata": {
    "pycharm": {
     "is_executing": true
    },
    "tags": [
     "hide-cell"
    ]
   },
   "outputs": [],
   "source": [
    "\n",
    "def plot_metrics(gm_list, fgm_list, y_title:str, metric):\n",
    "    \n",
    "    fig, ax = plt.subplots(nrows=1, ncols=2, figsize=(20, 5))\n",
    "    ax.plot(x,y,color ='red',linewidth=3)\n",
    "    \n",
    "    for i in range(len(label_list)):\n",
    "        ax[0].plot(gm_list[i][\"time\"],gm_list[i][y_title].fillna(method='ffill'), label=metric+label_list[i])\n",
    "        ax[1].plot(fgm_list[i][\"time\"],fgm_list[i][y_title].fillna(method='ffill'), label=metric+label_list[i])\n",
    "    \n",
    "    \n",
    "    for i in range(2):\n",
    "        #adjust plot interface\n",
    "        ax[i].legend(fontsize=18)\n",
    "        ax[i].grid(True,linestyle='dashdot', color='grey')\n",
    "        ax[i].tick_params(labelcolor='red', labelsize=15,pad=10,direction = 'inout', width=3)\n",
    "        # set axis titles\n",
    "        ax[i].set_xlabel(\"unit time\",fontsize=20)\n",
    "        ax[i].set_ylabel(y_title,fontsize=20)\n",
    "    # set central titles\n",
    "    ax[0].set_title(\"GM\",fontsize=25,pad =15)\n",
    "    ax[1].set_title(\"FGM\",fontsize=25,pad =15)\n",
    "\n"
   ]
  },
  {
   "cell_type": "code",
   "execution_count": 5,
   "metadata": {
    "tags": [
     "hide-cell"
    ]
   },
   "outputs": [
    {
     "ename": "IndentationError",
     "evalue": "unexpected indent (<ipython-input-5-0af3da29040b>, line 48)",
     "output_type": "error",
     "traceback": [
      "\u001b[1;36m  File \u001b[1;32m\"<ipython-input-5-0af3da29040b>\"\u001b[1;36m, line \u001b[1;32m48\u001b[0m\n\u001b[1;33m    for i in range(window):\u001b[0m\n\u001b[1;37m    ^\u001b[0m\n\u001b[1;31mIndentationError\u001b[0m\u001b[1;31m:\u001b[0m unexpected indent\n"
     ]
    }
   ],
   "source": [
    "def plot_accuracy( data:str, metric:str, nodes:int, features:int, error:int, window:int, epoch:int, tempo:str):\n",
    "    \n",
    "    gm_list =[]\n",
    "    fgm_list =[]\n",
    "    label_list=[]\n",
    "       \n",
    "    y_title = \"regret\" if (data ==\"drift\")  else \"mae\"\n",
    "        \n",
    "    if metric==\"nodes\":\n",
    "        i=10\n",
    "        for i in range(nodes):\n",
    "            filename = \"io_files/gm/\"+ data +\"/\"+ metric +\"/\"+ y_title +\"/\"+ static_part_of_name(nodes=i,\n",
    "                                            features=features,error=error,window=window,epoch=epoch)+\".csv\"\n",
    "            gm_list.append(import_metric(filename,y_title))\n",
    "\n",
    "            filename = \"io_files/fgm/\"+ data +\"/\"+ metric +\"/\"+ y_title +\"/\"+ static_part_of_name(nodes=i,\n",
    "                                            features=features,error=error,window=window,epoch=epoch)+\".csv\"\n",
    "            fgm_list.append(import_metric(filename, y_title))\n",
    "            label_list.append(str(i))\n",
    "            i=i+tempo\n",
    "    elif metric==\"features\": \n",
    "        i=10\n",
    "        for i in range(features):\n",
    "            filename = \"io_files/gm/\"+ data +\"/\"+ metric +\"/\"+ y_title +\"/\"+ static_part_of_name(nodes=nodes,\n",
    "                                            features=i,error=error,window=window,epoch=epoch)+\".csv\"\n",
    "            gm_list.append(import_metric(filename,y_title))\n",
    "\n",
    "            filename = \"io_files/fgm/\"+ data +\"/\"+ metric +\"/\"+ y_title +\"/\"+ static_part_of_name(nodes=nodes,\n",
    "                                            features=i,error=error,window=window,epoch=epoch)+\".csv\"\n",
    "            fgm_list.append(import_metric(filename, y_title))\n",
    "            label_list.append(str(i))\n",
    "            i=i+tempo\n",
    "    elif metric==\"error\":\n",
    "        i=1\n",
    "        for i in range(error):\n",
    "            custom_i = i*0.01\n",
    "            filename = \"io_files/gm/\"+ data +\"/\"+ metric +\"/\"+ y_title +\"/\"+ static_part_of_name(nodes=nodes,\n",
    "                                            features=features,error=custom_i,window=window,epoch=epoch)+\".csv\"\n",
    "            gm_list.append(import_metric(filename,y_title))\n",
    "\n",
    "            filename = \"io_files/fgm/\"+ data +\"/\"+ metric +\"/\"+ y_title +\"/\"+ static_part_of_name(nodes=nodes,\n",
    "                                            features=features,error=custom_i,window=window,epoch=epoch)+\".csv\"\n",
    "            fgm_list.append(import_metric(filename, y_title))\n",
    "            label_list.append(str(i))\n",
    "            i=i+tempo\n",
    "    elif metric==\"window\":\n",
    "        i=100\n",
    "        for i in range(window):\n",
    "            filename = \"io_files/gm/\"+ data +\"/\"+ metric +\"/\"+ y_title +\"/\"+ static_part_of_name(nodes=nodes,\n",
    "                                            features=features,error=error,window=i,epoch=epoch)+\".csv\"\n",
    "            gm_list.append(import_metric(filename,y_title))\n",
    "\n",
    "            filename = \"io_files/fgm/\"+ data +\"/\"+ metric +\"/\"+ y_title +\"/\"+ static_part_of_name(nodes=nodes,\n",
    "                                            features=features,error=error,window=i,epoch=epoch)+\".csv\"\n",
    "            fgm_list.append(import_metric(filename, y_title))\n",
    "            label_list.append(str(i))\n",
    "            i=i+tempo\n",
    "    else:\n",
    "        raise Exception(\"Wrong metric: \" + metric)\n",
    "\n",
    "    plot_metrics( gm_list, fgm_list, label_list, y_title, metric) "
   ]
  },
  {
   "cell_type": "code",
   "execution_count": null,
   "metadata": {
    "tags": [
     "hide-cell"
    ]
   },
   "outputs": [],
   "source": [
    "def plot_rounds( data:str, metric:str, nodes:int, features:int, error:int, window:int, epoch:int, tempo:str):\n",
    "    \n",
    "    gm_list =[]\n",
    "    fgm_list =[]\n",
    "    label_list=[]\n",
    "    i=tempo\n",
    "    \n",
    "    y_title=\"rounds\"\n",
    "    \n",
    "    if metric==\"nodes\":\n",
    "        for i in range(nodes):\n",
    "            filename = \"io_files/gm/\"+ data +\"/\"+ metric +\"/\"+ y_title +\"/\"+ static_part_of_name(nodes=i,\n",
    "                                            features=features,error=error,window=window,epoch=epoch)+\".csv\"\n",
    "            gm_list.append(import_metric(filename,y_title))\n",
    "\n",
    "            filename = \"io_files/fgm/\"+ data +\"/\"+ metric +\"/\"+ y_title +\"/\"+ static_part_of_name(nodes=i,\n",
    "                                            features=features,error=error,window=window,epoch=epoch)+\".csv\"\n",
    "            fgm_list.append(import_metric(filename, y_title))\n",
    "            label_list.append(str(i))\n",
    "            i=i+tempo\n",
    "    elif metric==\"features\":    \n",
    "        for i in range(features):\n",
    "            filename = \"io_files/gm/\"+ data +\"/\"+ metric +\"/\"+ y_title +\"/\"+ static_part_of_name(nodes=nodes,\n",
    "                                            features=i,error=error,window=window,epoch=epoch)+\".csv\"\n",
    "            gm_list.append(import_metric(filename,y_title))\n",
    "\n",
    "            filename = \"io_files/fgm/\"+ data +\"/\"+ metric +\"/\"+ y_title +\"/\"+ static_part_of_name(nodes=nodes,\n",
    "                                            features=i,error=error,window=window,epoch=epoch)+\".csv\"\n",
    "            fgm_list.append(import_metric(filename, y_title))\n",
    "            label_list.append(str(i))\n",
    "            i=i+tempo\n",
    "    elif metric==\"error\":\n",
    "        for i in range(error):\n",
    "            custom_i = i*0.01\n",
    "            filename = \"io_files/gm/\"+ data +\"/\"+ metric +\"/\"+ y_title +\"/\"+ static_part_of_name(nodes=nodes,\n",
    "                                            features=features,error=custom_i,window=window,epoch=epoch)+\".csv\"\n",
    "            gm_list.append(import_metric(filename,y_title))\n",
    "\n",
    "            filename = \"io_files/fgm/\"+ data +\"/\"+ metric +\"/\"+ y_title +\"/\"+ static_part_of_name(nodes=nodes,\n",
    "                                            features=features,error=custom_i,window=window,epoch=epoch)+\".csv\"\n",
    "            fgm_list.append(import_metric(filename, y_title))\n",
    "            label_list.append(str(i))\n",
    "            i=i+tempo\n",
    "    elif metric==\"window\":\n",
    "         for i in range(window):\n",
    "            filename = \"io_files/gm/\"+ data +\"/\"+ metric +\"/\"+ y_title +\"/\"+ static_part_of_name(nodes=nodes,\n",
    "                                            features=features,error=error,window=i,epoch=epoch)+\".csv\"\n",
    "            gm_list.append(import_metric(filename,y_title))\n",
    "\n",
    "            filename = \"io_files/fgm/\"+ data +\"/\"+ metric +\"/\"+ y_title +\"/\"+ static_part_of_name(nodes=nodes,\n",
    "                                            features=features,error=error,window=i,epoch=epoch)+\".csv\"\n",
    "            fgm_list.append(import_metric(filename, y_title))\n",
    "            label_list.append(str(i))\n",
    "            i=i+tempo\n",
    "    else:\n",
    "        raise Exception(\"Wrong metric: \" + metric)\n",
    "\n",
    "    plot_metrics( gm_list, fgm_list, label_list, y_title, metric) "
   ]
  },
  {
   "cell_type": "code",
   "execution_count": null,
   "metadata": {
    "tags": [
     "hide-cell"
    ]
   },
   "outputs": [],
   "source": [
    "def plot_traffic( data:str, metric:str, nodes:int, features:int, error:int, window:int, epoch:int, tempo:str):\n",
    "    \n",
    "    gm_list =[]\n",
    "    fgm_list =[]\n",
    "    label_list=[]\n",
    "    i=tempo\n",
    "    \n",
    "    y_title=\"traffic\"\n",
    "    \n",
    "    if metric==\"nodes\":\n",
    "        for i in range(nodes):\n",
    "            filename = \"io_files/gm/\"+ data +\"/\"+ metric +\"/\"+ y_title +\"/\"+ static_part_of_name(nodes=i,\n",
    "                                            features=features,error=error,window=window,epoch=epoch)+\".csv\"\n",
    "            gm_list.append(import_metric(filename,y_title))\n",
    "\n",
    "            filename = \"io_files/fgm/\"+ data +\"/\"+ metric +\"/\"+ y_title +\"/\"+ static_part_of_name(nodes=i,\n",
    "                                            features=features,error=error,window=window,epoch=epoch)+\".csv\"\n",
    "            fgm_list.append(import_metric(filename, y_title))\n",
    "            label_list.append(str(i))\n",
    "            i=i+tempo\n",
    "    elif metric==\"features\":    \n",
    "        for i in range(features):\n",
    "            filename = \"io_files/gm/\"+ data +\"/\"+ metric +\"/\"+ y_title +\"/\"+ static_part_of_name(nodes=nodes,\n",
    "                                            features=i,error=error,window=window,epoch=epoch)+\".csv\"\n",
    "            gm_list.append(import_metric(filename,y_title))\n",
    "\n",
    "            filename = \"io_files/fgm/\"+ data +\"/\"+ metric +\"/\"+ y_title +\"/\"+ static_part_of_name(nodes=nodes,\n",
    "                                            features=i,error=error,window=window,epoch=epoch)+\".csv\"\n",
    "            fgm_list.append(import_metric(filename, y_title))\n",
    "            label_list.append(str(i))\n",
    "            i=i+tempo\n",
    "    elif metric==\"error\":\n",
    "        for i in range(error):\n",
    "            custom_i = i*0.01\n",
    "            filename = \"io_files/gm/\"+ data +\"/\"+ metric +\"/\"+ y_title +\"/\"+ static_part_of_name(nodes=nodes,\n",
    "                                            features=features,error=custom_i,window=window,epoch=epoch)+\".csv\"\n",
    "            gm_list.append(import_metric(filename,y_title))\n",
    "\n",
    "            filename = \"io_files/fgm/\"+ data +\"/\"+ metric +\"/\"+ y_title +\"/\"+ static_part_of_name(nodes=nodes,\n",
    "                                            features=features,error=custom_i,window=window,epoch=epoch)+\".csv\"\n",
    "            fgm_list.append(import_metric(filename, y_title))\n",
    "            label_list.append(str(i))\n",
    "            i=i+tempo\n",
    "    elif metric==\"window\":\n",
    "         for i in range(window):\n",
    "            filename = \"io_files/gm/\"+ data +\"/\"+ metric +\"/\"+ y_title +\"/\"+ static_part_of_name(nodes=nodes,\n",
    "                                            features=features,error=error,window=i,epoch=epoch)+\".csv\"\n",
    "            gm_list.append(import_metric(filename,y_title))\n",
    "\n",
    "            filename = \"io_files/fgm/\"+ data +\"/\"+ metric +\"/\"+ y_title +\"/\"+ static_part_of_name(nodes=nodes,\n",
    "                                            features=features,error=error,window=i,epoch=epoch)+\".csv\"\n",
    "            fgm_list.append(import_metric(filename, y_title))\n",
    "            label_list.append(str(i))\n",
    "            i=i+tempo\n",
    "    else:\n",
    "        raise Exception(\"Wrong metric: \" + metric)\n",
    "\n",
    "    plot_metrics( gm_list, fgm_list, label_list, y_title, metric) "
   ]
  },
  {
   "cell_type": "code",
   "execution_count": null,
   "metadata": {
    "tags": [
     "hide-cell"
    ]
   },
   "outputs": [],
   "source": [
    "def plot_upstream_traffic( data:str, metric:str, nodes:int, features:int, error:int, window:int, epoch:int, tempo:str):\n",
    "    \n",
    "    gm_list =[]\n",
    "    fgm_list =[]\n",
    "    label_list=[]\n",
    "    i=tempo\n",
    "    \n",
    "    y_title=\"upstream\"\n",
    "    \n",
    "    if metric==\"nodes\":\n",
    "        for i in range(nodes):\n",
    "            filename = \"io_files/gm/\"+ data +\"/\"+ metric +\"/\"+ y_title +\"/\"+ static_part_of_name(nodes=i,\n",
    "                                            features=features,error=error,window=window,epoch=epoch)+\".csv\"\n",
    "            gm_list.append(import_metric(filename,y_title))\n",
    "\n",
    "            filename = \"io_files/fgm/\"+ data +\"/\"+ metric +\"/\"+ y_title +\"/\"+ static_part_of_name(nodes=i,\n",
    "                                            features=features,error=error,window=window,epoch=epoch)+\".csv\"\n",
    "            fgm_list.append(import_metric(filename, y_title))\n",
    "            label_list.append(str(i))\n",
    "            i=i+tempo\n",
    "    elif metric==\"features\":    \n",
    "        for i in range(features):\n",
    "            filename = \"io_files/gm/\"+ data +\"/\"+ metric +\"/\"+ y_title +\"/\"+ static_part_of_name(nodes=nodes,\n",
    "                                            features=i,error=error,window=window,epoch=epoch)+\".csv\"\n",
    "            gm_list.append(import_metric(filename,y_title))\n",
    "\n",
    "            filename = \"io_files/fgm/\"+ data +\"/\"+ metric +\"/\"+ y_title +\"/\"+ static_part_of_name(nodes=nodes,\n",
    "                                            features=i,error=error,window=window,epoch=epoch)+\".csv\"\n",
    "            fgm_list.append(import_metric(filename, y_title))\n",
    "            label_list.append(str(i))\n",
    "            i=i+tempo\n",
    "    elif metric==\"error\":\n",
    "        for i in range(error):\n",
    "            custom_i = i*0.01\n",
    "            filename = \"io_files/gm/\"+ data +\"/\"+ metric +\"/\"+ y_title +\"/\"+ static_part_of_name(nodes=nodes,\n",
    "                                            features=features,error=custom_i,window=window,epoch=epoch)+\".csv\"\n",
    "            gm_list.append(import_metric(filename,y_title))\n",
    "\n",
    "            filename = \"io_files/fgm/\"+ data +\"/\"+ metric +\"/\"+ y_title +\"/\"+ static_part_of_name(nodes=nodes,\n",
    "                                            features=features,error=custom_i,window=window,epoch=epoch)+\".csv\"\n",
    "            fgm_list.append(import_metric(filename, y_title))\n",
    "            label_list.append(str(i))\n",
    "            i=i+tempo\n",
    "    elif metric==\"window\":\n",
    "         for i in range(window):\n",
    "            filename = \"io_files/gm/\"+ data +\"/\"+ metric +\"/\"+ y_title +\"/\"+ static_part_of_name(nodes=nodes,\n",
    "                                            features=features,error=error,window=i,epoch=epoch)+\".csv\"\n",
    "            gm_list.append(import_metric(filename,y_title))\n",
    "\n",
    "            filename = \"io_files/fgm/\"+ data +\"/\"+ metric +\"/\"+ y_title +\"/\"+ static_part_of_name(nodes=nodes,\n",
    "                                            features=features,error=error,window=i,epoch=epoch)+\".csv\"\n",
    "            fgm_list.append(import_metric(filename, y_title))\n",
    "            label_list.append(str(i))\n",
    "            i=i+tempo\n",
    "    else:\n",
    "        raise Exception(\"Wrong metric: \" + metric)\n",
    "\n",
    "    plot_metrics( gm_list, fgm_list, label_list, y_title, metric) "
   ]
  },
  {
   "cell_type": "markdown",
   "metadata": {},
   "source": [
    "### Diagrams for accuracy: "
   ]
  },
  {
   "cell_type": "code",
   "execution_count": null,
   "metadata": {
    "pycharm": {
     "is_executing": true
    }
   },
   "outputs": [],
   "source": [
    "plot_accuracy( data=\"drift\", metric=\"nodes\", nodes=100, features=10, error=5, window=10000, epoch=4, tempo=30)"
   ]
  },
  {
   "cell_type": "markdown",
   "metadata": {},
   "source": [
    "### Diagrams for rounds:"
   ]
  },
  {
   "cell_type": "code",
   "execution_count": null,
   "metadata": {},
   "outputs": [],
   "source": [
    "plot_rounds( data=\"drift\", metric=\"nodes\", nodes=100, features=10, error=5, window=10000, epoch=4, tempo=30)"
   ]
  },
  {
   "cell_type": "markdown",
   "metadata": {},
   "source": [
    "### Diagrams for total traffic (in bytes):"
   ]
  },
  {
   "cell_type": "code",
   "execution_count": null,
   "metadata": {},
   "outputs": [],
   "source": [
    "plot_traffic( data=\"drift\", metric=\"nodes\", nodes=100, features=10, error=5, window=10000, epoch=4, tempo=30)"
   ]
  },
  {
   "cell_type": "markdown",
   "metadata": {},
   "source": [
    "### Diagrams for upstream traffic (in bytes):"
   ]
  },
  {
   "cell_type": "code",
   "execution_count": null,
   "metadata": {},
   "outputs": [],
   "source": [
    "plot_upstream_traffic( data=\"drift\", metric=\"nodes\", nodes=100, features=10, error=5, window=10000, epoch=4, tempo=30)"
   ]
  }
 ],
 "metadata": {
  "hide_input": false,
  "kernelspec": {
   "display_name": "Python 3",
   "language": "python",
   "name": "python3"
  },
  "language_info": {
   "codemirror_mode": {
    "name": "ipython",
    "version": 3
   },
   "file_extension": ".py",
   "mimetype": "text/x-python",
   "name": "python",
   "nbconvert_exporter": "python",
   "pygments_lexer": "ipython3",
   "version": "3.8.2"
  },
  "toc": {
   "base_numbering": 1,
   "nav_menu": {},
   "number_sections": true,
   "sideBar": true,
   "skip_h1_title": false,
   "title_cell": "Table of Contents",
   "title_sidebar": "Contents",
   "toc_cell": false,
   "toc_position": {
    "height": "calc(100% - 180px)",
    "left": "10px",
    "top": "150px",
    "width": "194.575px"
   },
   "toc_section_display": true,
   "toc_window_display": true
  }
 },
 "nbformat": 4,
 "nbformat_minor": 1
}
