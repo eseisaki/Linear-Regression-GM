{
 "cells": [
  {
   "cell_type": "code",
   "execution_count": 1,
   "metadata": {},
   "outputs": [
    {
     "data": {
      "text/html": [
       "<style>#notebook { padding-top:0px !important; } .container { width:100% !important; } .end_space { min-height:0px !important; } td {font-size: 25px}</style>"
      ],
      "text/plain": [
       "<IPython.core.display.HTML object>"
      ]
     },
     "metadata": {},
     "output_type": "display_data"
    }
   ],
   "source": [
    "# full screen layout\n",
    "from IPython.core.display import display, HTML\n",
    "display(HTML(\n",
    "    '<style>'\n",
    "        '#notebook { padding-top:0px !important; } ' \n",
    "        '.container { width:100% !important; } '\n",
    "        '.end_space { min-height:0px !important; } '\n",
    "        'td {font-size: 25px}'\n",
    "    '</style>'\n",
    "))"
   ]
  },
  {
   "cell_type": "code",
   "execution_count": null,
   "metadata": {
    "pycharm": {
     "is_executing": true,
     "name": "#%%\n"
    }
   },
   "outputs": [],
   "source": [
    "# import libraries\n",
    "import warnings\n",
    "warnings.filterwarnings(\"ignore\")\n",
    "import constants as const\n",
    "import matplotlib.pyplot as plt\n",
    "import numpy as np\n",
    "import pandas as pd"
   ]
  },
  {
   "cell_type": "code",
   "execution_count": null,
   "metadata": {
    "pycharm": {
     "is_executing": true
    }
   },
   "outputs": [],
   "source": [
    "# useful functions for plotting\n",
    "def create_plot(x,y,x_title,y_title,full_title, fig_name):\n",
    "    \n",
    "    fig,ax = plt.subplots(figsize = (18,14))\n",
    "    ax.plot(x,y,color ='red',linewidth=3)\n",
    "    \n",
    "    ax.grid(True,linestyle='dashdot', color='grey')\n",
    "    ax.tick_params(labelcolor='red', labelsize=15,pad=10,direction = 'inout', width=3)\n",
    "    \n",
    "    ax.set_ylim(0,20)\n",
    "    \n",
    "    ax.set_xlabel(x_title,fontsize=20)\n",
    "    ax.set_ylabel(y_title,fontsize=20)\n",
    "    ax.set_title(full_title,fontsize=25,pad =15)\n",
    "\n",
    "    plt.savefig(fig_name)\n",
    "    \n",
    "def create_merged_plot(y1,y2,x,x_title,y_title,full_title,cases, ylim, fig_name):\n",
    "    \n",
    "    fig,ax = plt.subplots(figsize = (18,14))\n",
    "    \n",
    "    ax.plot(x,y1,linewidth=3, label=cases[0],color = '#d62728')\n",
    "    ax.plot(x,y2,linewidth=3, label=cases[1],color = '#17becf')\n",
    "    plt.fill_between(x, y1, y2, color=\"grey\", alpha=\"0.3\")\n",
    "    \n",
    "    ax.legend(fontsize=20)\n",
    "    ax.grid(True,linestyle='dashdot', color='grey')\n",
    "    ax.tick_params(labelcolor='red', labelsize=15,pad=10,direction = 'inout', width=3)\n",
    "    \n",
    "    #ax.set_xlim(0, 1000)\n",
    "    if ylim is not None:\n",
    "        ax.set_ylim(ylim,100)\n",
    "        \n",
    "\n",
    "    ax.set_xlabel(x_title,fontsize=20)\n",
    "    ax.set_ylabel(y_title,fontsize=20)\n",
    "    ax.set_title(full_title,fontsize=25,pad =15)\n",
    "    \n",
    "    plt.savefig(fig_name )\n",
    "    "
   ]
  },
  {
   "cell_type": "code",
   "execution_count": null,
   "metadata": {
    "pycharm": {
     "is_executing": true,
     "name": "#%%\n"
    }
   },
   "outputs": [],
   "source": [
    "# useful functions for data evaluation\n",
    "def import_metric(file, name):\n",
    "    df = pd.read_csv(file,names=[name,\"time\"])\n",
    "    return df\n",
    "\n",
    "def align_axis(arr1,arr2,head1,head2):\n",
    "    merged = pd.merge(arr1, arr2,on='time',how='outer').sort_values(by='time')\n",
    "    merged[head2].fillna(method='ffill')\n",
    "    merged[head1].fillna(method='ffill')\n",
    "    \n",
    "    return merged\n",
    "\n",
    "def plot_metrics(arr1,arr2,head1,head2,title,ylim, fig_name):\n",
    "    merged = pd.merge(arr1, arr2,on='time',how='outer').sort_values(by='time')\n",
    "\n",
    "    x_axis = merged['time']\n",
    "    y1 = merged[head1].fillna(method='ffill')\n",
    "    y2 = merged[head2].fillna(method='ffill')\n",
    "\n",
    "    create_merged_plot(y1=y1,\n",
    "                       y2=y2,\n",
    "                       x=x_axis,\n",
    "                       x_title='unit time',\n",
    "                       y_title='model error',\n",
    "                       full_title=title,\n",
    "                       cases=[head1,head2],\n",
    "                       ylim=ylim,\n",
    "                       fig_name=fig_name)"
   ]
  },
  {
   "cell_type": "code",
   "execution_count": null,
   "metadata": {
    "pycharm": {
     "is_executing": true,
     "name": "#%%\n"
    }
   },
   "outputs": [],
   "source": [
    "# import metrics THRESHOLD\n",
    "MAE_central = import_metric(\"io_files/centralizedfeat_200MAE.csv\",\"MAE_central\")\n",
    "#################################################################################\n",
    "MAE_gm1=import_metric(\"io_files/gmfeat_10MAE.csv\",\"MAE_gm1\")\n",
    "MAE_gm2=import_metric(\"io_files/gmfeat_50MAE.csv\",\"MAE_gm2\")\n",
    "MAE_gm3=import_metric(\"io_files/gmfeat_100MAE.csv\",\"MAE_gm3\")\n",
    "MAE_gm4=import_metric(\"io_files/gmfeat_200MAE.csv\",\"MAE_gm4\")\n",
    "# MAE_gm5=import_metric(\"io_files/gmerr_0.1MAE.csv\",\"MAE_gm5\")\n",
    "# MAE_gm6=import_metric(\"io_files/gmerr_0.3MAE.csv\",\"MAE_gm6\")\n",
    "# MAE_gm7=import_metric(\"io_files/gmerr_0.5MAE.csv\",\"MAE_gm7\")\n",
    "# MAE_gm8=import_metric(\"io_files/gmerr_1.0MAE.csv\",\"MAE_gm8\")\n",
    "\n",
    "ROUNDS_gm1 =import_metric(\"io_files/gmfeat_10ROUNDS.csv\",\"ROUNDS_gm1\")\n",
    "ROUNDS_gm2 =import_metric(\"io_files/gmfeat_50ROUNDS.csv\",\"ROUNDS_gm2\")\n",
    "ROUNDS_gm3 =import_metric(\"io_files/gmfeat_100ROUNDS.csv\",\"ROUNDS_gm3\")\n",
    "ROUNDS_gm4 =import_metric(\"io_files/gmfeat_200ROUNDS.csv\",\"ROUNDS_gm4\")\n",
    "# ROUNDS_gm5 =import_metric(\"io_files/gmerr_0.1ROUNDS.csv\",\"ROUNDS_gm5\")\n",
    "# ROUNDS_gm6 =import_metric(\"io_files/gmerr_0.3ROUNDS.csv\",\"ROUNDS_gm6\")\n",
    "# ROUNDS_gm7 =import_metric(\"io_files/gmerr_0.5ROUNDS.csv\",\"ROUNDS_gm7\")\n",
    "# ROUNDS_gm8 =import_metric(\"io_files/gmerr_1.0ROUNDS.csv\",\"ROUNDS_gm8\")\n",
    "#################################################################################\n",
    "MAE_fgm1=import_metric(\"io_files/fgmfeat_200_node_10MAE.csv\",\"MAE_fgm1\")\n",
    "MAE_fgm2=import_metric(\"io_files/fgmfeat_200_node_15MAE.csv\",\"MAE_fgm2\")\n",
    "MAE_fgm3=import_metric(\"io_files/fgmfeat_200_node_20MAE.csv\",\"MAE_fgm3\")\n",
    "MAE_fgm4=import_metric(\"io_files/fgmfeat_200_node_25MAE.csv\",\"MAE_fgm4\")\n",
    "MAE_fgm5=import_metric(\"io_files/fgmfeat_200_node_50MAE.csv\",\"MAE_fgm5\")\n",
    "MAE_fgm6=import_metric(\"io_files/fgmfeat_200_node_100MAE.csv\",\"MAE_fgm6\")\n",
    "\n",
    "ROUNDS_fgm1 =import_metric(\"io_files//fgmfeat_200_node_10ROUNDS.csv\",\"ROUNDS_fgm1\")\n",
    "ROUNDS_fgm2 =import_metric(\"io_files//fgmfeat_200_node_15ROUNDS.csv\",\"ROUNDS_fgm2\")\n",
    "ROUNDS_fgm3 =import_metric(\"io_files//fgmfeat_200_node_20ROUNDS.csv\",\"ROUNDS_fgm3\")\n",
    "ROUNDS_fgm4 =import_metric(\"io_files//fgmfeat_200_node_25ROUNDS.csv\",\"ROUNDS_fgm4\")\n",
    "ROUNDS_fgm5 =import_metric(\"io_files//fgmfeat_200_node_50ROUNDS.csv\",\"ROUNDS_fgm5\")\n",
    "ROUNDS_fgm6 =import_metric(\"io_files//fgmfeat_200_node_100ROUNDS.csv\",\"ROUNDS_fgm6\")\n",
    "\n"
   ]
  },
  {
   "cell_type": "code",
   "execution_count": null,
   "metadata": {
    "pycharm": {
     "is_executing": true
    }
   },
   "outputs": [],
   "source": [
    "# # import metrics WINDOW\n",
    "# MAE_central = import_metric(\"io_files/centralizederr_0.01MAE.csv\",\"MAE_central\")\n",
    "# #################################################################################\n",
    "# MAE_gm1=import_metric(\"io_files/gmwindow_100MAE.csv\",\"MAE_gm1\")\n",
    "# MAE_gm2=import_metric(\"io_files/gmwindow_500MAE.csv\",\"MAE_gm2\")\n",
    "# MAE_gm3=import_metric(\"io_files/gmwindow_1000MAE.csv\",\"MAE_gm3\")\n",
    "# MAE_gm4=import_metric(\"io_files/gmwindow_1500MAE.csv\",\"MAE_gm4\")\n",
    "# MAE_gm5=import_metric(\"io_files/gmwindow_2000MAE.csv\",\"MAE_gm5\")\n",
    "# MAE_gm6=import_metric(\"io_files/gmwindow_2500MAE.csv\",\"MAE_gm6\")\n",
    "\n",
    "# ROUNDS_gm1 =import_metric(\"io_files/gmwindow_100ROUNDS.csv\",\"ROUNDS_gm1\")\n",
    "# ROUNDS_gm2 =import_metric(\"io_files/gmwindow_500ROUNDS.csv\",\"ROUNDS_gm2\")\n",
    "# ROUNDS_gm3 =import_metric(\"io_files/gmwindow_1000ROUNDS.csv\",\"ROUNDS_gm3\")\n",
    "# ROUNDS_gm4 =import_metric(\"io_files/gmwindow_1500ROUNDS.csv\",\"ROUNDS_gm4\")\n",
    "# ROUNDS_gm5 =import_metric(\"io_files/gmwindow_2000ROUNDS.csv\",\"ROUNDS_gm5\")\n",
    "# ROUNDS_gm6 =import_metric(\"io_files/gmwindow_2500ROUNDS.csv\",\"ROUNDS_gm6\")\n",
    "# #################################################################################\n",
    "# MAE_fgm1=import_metric(\"io_files/fgmwindow_100MAE.csv\",\"MAE_fgm1\")\n",
    "# MAE_fgm2=import_metric(\"io_files/fgmwindow_500MAE.csv\",\"MAE_fgm2\")\n",
    "# MAE_fgm3=import_metric(\"io_files/fgmwindow_1000MAE.csv\",\"MAE_fgm3\")\n",
    "# MAE_fgm4=import_metric(\"io_files/fgmwindow_1500MAE.csv\",\"MAE_fgm4\")\n",
    "# MAE_fgm5=import_metric(\"io_files/fgmwindow_2000MAE.csv\",\"MAE_fgm5\")\n",
    "# MAE_fgm6=import_metric(\"io_files/fgmwindow_2500MAE.csv\",\"MAE_fgm6\")\n",
    "\n",
    "# ROUNDS_fgm1 =import_metric(\"io_files/fgmwindow_100ROUNDS.csv\",\"ROUNDS_fgm1\")\n",
    "# ROUNDS_fgm2 =import_metric(\"io_files/fgmwindow_500ROUNDS.csv\",\"ROUNDS_fgm2\")\n",
    "# ROUNDS_fgm3 =import_metric(\"io_files/fgmwindow_1000ROUNDS.csv\",\"ROUNDS_fgm3\")\n",
    "# ROUNDS_fgm4 =import_metric(\"io_files/fgmwindow_1500ROUNDS.csv\",\"ROUNDS_fgm4\")\n",
    "# ROUNDS_fgm5 =import_metric(\"io_files/fgmwindow_2000ROUNDS.csv\",\"ROUNDS_fgm5\")\n",
    "# ROUNDS_fgm6 =import_metric(\"io_files/fgmwindow_2500ROUNDS.csv\",\"ROUNDS_fgm6\")\n"
   ]
  },
  {
   "cell_type": "code",
   "execution_count": null,
   "metadata": {
    "pycharm": {
     "is_executing": true
    }
   },
   "outputs": [],
   "source": [
    "fig,ax = plt.subplots(figsize = (18,14))\n",
    "#ax.plot(MAE_central[\"time\"],MAE_central[\"MAE_central\"], label=\"centralized\")\n",
    "ax.plot(MAE_gm1[\"time\"],MAE_gm1['MAE_gm1'].fillna(method='ffill'), label=\"features=10\")\n",
    "ax.plot(MAE_gm2[\"time\"],MAE_gm2['MAE_gm2'].fillna(method='ffill'), label=\"features=50\")\n",
    "ax.plot(MAE_gm3[\"time\"],MAE_gm3['MAE_gm3'].fillna(method='ffill'), label=\"features=100\")\n",
    "ax.plot(MAE_gm4[\"time\"],MAE_gm4['MAE_gm4'].fillna(method='ffill'), label=\"features=200\")\n",
    "# ax.plot(MAE_gm5[\"time\"],MAE_gm5['MAE_gm5'].fillna(method='ffill'), label=\"window=2000\")\n",
    "# ax.plot(MAE_gm6[\"time\"],MAE_gm6['MAE_gm6'].fillna(method='ffill'), label=\"window=2500\")\n",
    "\n",
    "ax.legend(fontsize=20)\n",
    "ax.grid(True,linestyle='dashdot', color='grey')\n",
    "ax.tick_params(labelcolor='red', labelsize=15,pad=10,direction = 'inout', width=3)\n",
    "\n",
    "ax.set_xlabel(\"time\",fontsize=20)\n",
    "ax.set_ylabel(\"MAE\",fontsize=20)\n",
    "ax.set_title(\"Error of GM\",fontsize=25,pad =15)\n",
    "\n",
    "ax.set_xlim(0,2000)\n"
   ]
  },
  {
   "cell_type": "code",
   "execution_count": null,
   "metadata": {
    "pycharm": {
     "is_executing": true
    }
   },
   "outputs": [],
   "source": [
    "fig,ax = plt.subplots(figsize = (18,14))\n",
    "# ax.plot(MAE_central[\"time\"],MAE_central[\"MAE_central\"], label=\"centralized\")\n",
    "ax.plot(MAE_fgm1[\"time\"],MAE_fgm1['MAE_fgm1'].fillna(method='ffill'), label=\"nodes=10\")\n",
    "ax.plot(MAE_fgm2[\"time\"],MAE_fgm2['MAE_fgm2'].fillna(method='ffill'), label=\"nodes=15\")\n",
    "ax.plot(MAE_fgm3[\"time\"],MAE_fgm3['MAE_fgm3'].fillna(method='ffill'), label=\"nodes=20\")\n",
    "ax.plot(MAE_fgm4[\"time\"],MAE_fgm4['MAE_fgm4'].fillna(method='ffill'), label=\"nodes=25\")\n",
    "ax.plot(MAE_fgm5[\"time\"],MAE_fgm5['MAE_fgm5'].fillna(method='ffill'), label=\"nodes=50\")\n",
    "ax.plot(MAE_fgm6[\"time\"],MAE_fgm6['MAE_fgm6'].fillna(method='ffill'), label=\"nodes=100\")\n",
    "\n",
    "ax.legend(fontsize=20)\n",
    "ax.grid(True,linestyle='dashdot', color='grey')\n",
    "ax.tick_params(labelcolor='red', labelsize=15,pad=10,direction = 'inout', width=3)\n",
    "\n",
    "ax.set_xlabel(\"time\",fontsize=20)\n",
    "ax.set_ylabel(\"MAE\",fontsize=20)\n",
    "ax.set_title(\"Error of FGM\",fontsize=25,pad =15)\n",
    "\n",
    "# ax.set_xlim(0,2000)"
   ]
  },
  {
   "cell_type": "code",
   "execution_count": null,
   "metadata": {
    "pycharm": {
     "is_executing": true
    }
   },
   "outputs": [],
   "source": [
    "\n",
    "fig,ax = plt.subplots(figsize = (18,14))\n",
    "ax.plot(ROUNDS_gm1['time'],ROUNDS_gm1['ROUNDS_gm1'], label=\"features=10\")\n",
    "ax.plot(ROUNDS_gm2['time'],ROUNDS_gm2['ROUNDS_gm2'], label=\"features=50\")\n",
    "ax.plot(ROUNDS_gm3['time'],ROUNDS_gm3['ROUNDS_gm3'], label=\"features=100\")\n",
    "ax.plot(ROUNDS_gm4['time'],ROUNDS_gm4['ROUNDS_gm4'], label=\"features=200\")\n",
    "#ax.plot(ROUNDS_gm5['time'],ROUNDS_gm5['ROUNDS_gm5'], label=\"window=2000\")\n",
    "#ax.plot(ROUNDS_gm6['time'],ROUNDS_gm6['ROUNDS_gm6'], label=\"window=2500\")\n",
    "\n",
    "ax.legend(fontsize=20)\n",
    "ax.grid(True,linestyle='dashdot', color='grey')\n",
    "ax.tick_params(labelcolor='red', labelsize=15,pad=10,direction = 'inout', width=3)\n",
    "\n",
    "ax.set_xlabel(\"time\",fontsize=20)\n",
    "ax.set_ylabel(\"ROUNDS\",fontsize=20)\n",
    "ax.set_title(\"ROUNDS of GM\",fontsize=25,pad =15)\n",
    "\n",
    "# ax.set_xlim(0,10000)\n"
   ]
  },
  {
   "cell_type": "code",
   "execution_count": null,
   "metadata": {
    "pycharm": {
     "is_executing": true
    }
   },
   "outputs": [],
   "source": [
    "fig,ax = plt.subplots(figsize = (18,14))\n",
    "ax.plot(ROUNDS_fgm1['time'],ROUNDS_fgm1['ROUNDS_fgm1'], label=\"window=100\")\n",
    "ax.plot(ROUNDS_fgm2['time'],ROUNDS_fgm2['ROUNDS_fgm2'], label=\"window=500\")\n",
    "ax.plot(ROUNDS_fgm3['time'],ROUNDS_fgm3['ROUNDS_fgm3'], label=\"window=1000\")\n",
    "ax.plot(ROUNDS_fgm4['time'],ROUNDS_fgm4['ROUNDS_fgm4'], label=\"window=1500\")\n",
    "ax.plot(ROUNDS_fgm5['time'],ROUNDS_fgm5['ROUNDS_fgm5'], label=\"window=2000\")\n",
    "ax.plot(ROUNDS_fgm6['time'],ROUNDS_fgm6['ROUNDS_fgm6'], label=\"window=2500\")\n",
    "\n",
    "ax.legend(fontsize=20)\n",
    "ax.grid(True,linestyle='dashdot', color='grey')\n",
    "ax.tick_params(labelcolor='red', labelsize=15,pad=10,direction = 'inout', width=3)\n",
    "\n",
    "ax.set_xlabel(\"time\",fontsize=20)\n",
    "ax.set_ylabel(\"ROUNDS\",fontsize=20)\n",
    "ax.set_title(\"ROUNDS of FGM\",fontsize=25,pad =15)\n",
    "\n",
    "#ax.set_yscale('log')\n",
    "\n",
    "# ax.set_xlim(0,5000)\n",
    "# ax.set_ylim(0,1000)\n"
   ]
  },
  {
   "cell_type": "code",
   "execution_count": null,
   "metadata": {
    "pycharm": {
     "is_executing": true
    }
   },
   "outputs": [],
   "source": []
  }
 ],
 "metadata": {
  "kernelspec": {
   "display_name": "Python 3",
   "language": "python",
   "name": "python3"
  },
  "language_info": {
   "codemirror_mode": {
    "name": "ipython",
    "version": 3
   },
   "file_extension": ".py",
   "mimetype": "text/x-python",
   "name": "python",
   "nbconvert_exporter": "python",
   "pygments_lexer": "ipython3",
   "version": "3.8.2"
  }
 },
 "nbformat": 4,
 "nbformat_minor": 1
}
