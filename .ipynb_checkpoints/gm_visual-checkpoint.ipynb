{
 "cells": [
  {
   "cell_type": "code",
   "execution_count": 7,
   "metadata": {
    "pycharm": {
     "name": "#%%\n"
    }
   },
   "outputs": [],
   "source": [
    "import warnings\n",
    "warnings.filterwarnings(\"ignore\")\n",
    "import constants as const\n",
    "import matplotlib.pyplot as plt\n",
    "import glob as glob\n",
    "import numpy as np\n",
    "import pandas as pd"
   ]
  },
  {
   "cell_type": "code",
   "execution_count": 8,
   "metadata": {
    "pycharm": {
     "name": "#%%\n"
    }
   },
   "outputs": [],
   "source": [
    "def plot_regret(file):\n",
    "\n",
    "    df = pd.read_csv(file,names=[\"garbage\",\"regret\",\"time\"])\n",
    "    fig, ax = plt.subplots(figsize=(20, 5))\n",
    "\n",
    "\n",
    "    ax.plot(df[\"time\"], df[\"regret\"])\n",
    "\n",
    "    #adjust plot interface\n",
    "    ax.grid(True,linestyle='dashdot', color='grey')\n",
    "    ax.tick_params(labelcolor='red', labelsize=15,pad=10,direction = 'inout', width=3)\n",
    "    # set axis titles\n",
    "    ax.set_xlabel(\"unit time\",fontsize=20)\n",
    "    ax.set_ylabel(\"regret\",fontsize=20)\n",
    "    # set central titles\n",
    "    ax.set_title(\"GM\",fontsize=25,pad =15)"
   ]
  },
  {
   "cell_type": "code",
   "execution_count": null,
   "metadata": {
    "pycharm": {
     "is_executing": true,
     "name": "#%%\n"
    }
   },
   "outputs": [
    {
     "name": "stderr",
     "output_type": "stream",
     "text": [
      "WARNING:matplotlib.legend:No handles with labels found to put in legend.\n"
     ]
    }
   ],
   "source": [
    "plot_regret(\"io_files/gm/drift/nodes/regret/k1_ft10_e10_win1300_ep3.csv\")\n"
   ]
  },
  {
   "cell_type": "code",
   "execution_count": null,
   "metadata": {},
   "outputs": [],
   "source": []
  }
 ],
 "metadata": {
  "hide_input": false,
  "kernelspec": {
   "display_name": "PyCharm (Regression-FGM)",
   "language": "python",
   "name": "pycharm-55f147c4"
  },
  "language_info": {
   "codemirror_mode": {
    "name": "ipython",
    "version": 3
   },
   "file_extension": ".py",
   "mimetype": "text/x-python",
   "name": "python",
   "nbconvert_exporter": "python",
   "pygments_lexer": "ipython3",
   "version": "3.8.2"
  },
  "toc": {
   "base_numbering": 1,
   "nav_menu": {},
   "number_sections": true,
   "sideBar": true,
   "skip_h1_title": false,
   "title_cell": "Table of Contents",
   "title_sidebar": "Contents",
   "toc_cell": false,
   "toc_position": {},
   "toc_section_display": true,
   "toc_window_display": false
  }
 },
 "nbformat": 4,
 "nbformat_minor": 4
}
