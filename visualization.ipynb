{
 "cells": [
  {
   "cell_type": "code",
   "execution_count": 10,
   "metadata": {
    "pycharm": {
     "is_executing": true,
     "name": "#%%\n"
    },
    "tags": [
     "hide-cell"
    ]
   },
   "outputs": [],
   "source": [
    "import warnings\n",
    "warnings.filterwarnings(\"ignore\")\n",
    "import constants as const\n",
    "import matplotlib.pyplot as plt\n",
    "import glob as glob\n",
    "import numpy as np\n",
    "import pandas as pd"
   ]
  },
  {
   "cell_type": "code",
   "execution_count": 11,
   "metadata": {
    "pycharm": {
     "is_executing": true,
     "name": "#%%\n"
    },
    "tags": [
     "hide-cell"
    ]
   },
   "outputs": [],
   "source": [
    "def import_metric(file, name):\n",
    "    df = pd.read_csv(file,names=[name,\"time\"])\n",
    "    return df"
   ]
  },
  {
   "cell_type": "code",
   "execution_count": 12,
   "metadata": {
    "tags": [
     "hide-cell"
    ]
   },
   "outputs": [],
   "source": [
    "def static_part_of_name(nodes, features, error, window, epoch):\n",
    "    return \"k\"+str(nodes)+\"_ft\"+str(features)+\"_e\"+str(error)+\"_win\"+str(window)+\"_ep\"+str(epoch)"
   ]
  },
  {
   "cell_type": "code",
   "execution_count": 13,
   "metadata": {
    "pycharm": {
     "is_executing": true
    },
    "tags": [
     "hide-cell"
    ]
   },
   "outputs": [],
   "source": [
    "\n",
    "def plot_metrics(gm_list, fgm_list, y_title:str, metric):\n",
    "    \n",
    "    fig, ax = plt.subplots(nrows=1, ncols=2, figsize=(20, 5))\n",
    "    ax.plot(x,y,color ='red',linewidth=3)\n",
    "    \n",
    "    for i in range(len(label_list)):\n",
    "        ax[0].plot(gm_list[i][\"time\"],gm_list[i][y_title].fillna(method='ffill'), label=metric+label_list[i])\n",
    "        ax[1].plot(fgm_list[i][\"time\"],fgm_list[i][y_title].fillna(method='ffill'), label=metric+label_list[i])\n",
    "    \n",
    "    \n",
    "    for i in range(2):\n",
    "        #adjust plot interface\n",
    "        ax[i].legend(fontsize=18)\n",
    "        ax[i].grid(True,linestyle='dashdot', color='grey')\n",
    "        ax[i].tick_params(labelcolor='red', labelsize=15,pad=10,direction = 'inout', width=3)\n",
    "        # set axis titles\n",
    "        ax[i].set_xlabel(\"unit time\",fontsize=20)\n",
    "        ax[i].set_ylabel(y_title,fontsize=20)\n",
    "    # set central titles\n",
    "    ax[0].set_title(\"GM\",fontsize=25,pad =15)\n",
    "    ax[1].set_title(\"FGM\",fontsize=25,pad =15)\n",
    "\n"
   ]
  },
  {
   "cell_type": "code",
   "execution_count": 14,
   "metadata": {
    "tags": [
     "hide-cell"
    ]
   },
   "outputs": [],
   "source": [
    "def plot_accuracy( data:str, metric:str, nodes:int, features:int, error:int, window:int, epoch:int, tempo:str):\n",
    "    \n",
    "    gm_list =[]\n",
    "    fgm_list =[]\n",
    "    label_list=[]\n",
    "       \n",
    "    y_title = \"regret\" if (data ==\"drift\")  else \"mae\"\n",
    "        \n",
    "    if metric==\"nodes\":\n",
    "        i=10\n",
    "        for i in range(nodes):\n",
    "            filename = \"io_files/gm/\"+ data +\"/\"+ metric +\"/\"+ y_title +\"/\"+ static_part_of_name(nodes=i,\n",
    "                                            features=features,error=error,window=window,epoch=epoch)+\".csv\"\n",
    "            gm_list.append(import_metric(filename,y_title))\n",
    "\n",
    "            filename = \"io_files/fgm/\"+ data +\"/\"+ metric +\"/\"+ y_title +\"/\"+ static_part_of_name(nodes=i,\n",
    "                                            features=features,error=error,window=window,epoch=epoch)+\".csv\"\n",
    "            fgm_list.append(import_metric(filename, y_title))\n",
    "            label_list.append(str(i))\n",
    "            i=i+tempo\n",
    "    elif metric==\"features\": \n",
    "        i=10\n",
    "        for i in range(features):\n",
    "            filename = \"io_files/gm/\"+ data +\"/\"+ metric +\"/\"+ y_title +\"/\"+ static_part_of_name(nodes=nodes,\n",
    "                                            features=i,error=error,window=window,epoch=epoch)+\".csv\"\n",
    "            gm_list.append(import_metric(filename,y_title))\n",
    "\n",
    "            filename = \"io_files/fgm/\"+ data +\"/\"+ metric +\"/\"+ y_title +\"/\"+ static_part_of_name(nodes=nodes,\n",
    "                                            features=i,error=error,window=window,epoch=epoch)+\".csv\"\n",
    "            fgm_list.append(import_metric(filename, y_title))\n",
    "            label_list.append(str(i))\n",
    "            i=i+tempo\n",
    "    elif metric==\"error\":\n",
    "        i=1\n",
    "        for i in range(error):\n",
    "            custom_i = i*0.01\n",
    "            filename = \"io_files/gm/\"+ data +\"/\"+ metric +\"/\"+ y_title +\"/\"+ static_part_of_name(nodes=nodes,\n",
    "                                            features=features,error=custom_i,window=window,epoch=epoch)+\".csv\"\n",
    "            gm_list.append(import_metric(filename,y_title))\n",
    "\n",
    "            filename = \"io_files/fgm/\"+ data +\"/\"+ metric +\"/\"+ y_title +\"/\"+ static_part_of_name(nodes=nodes,\n",
    "                                            features=features,error=custom_i,window=window,epoch=epoch)+\".csv\"\n",
    "            fgm_list.append(import_metric(filename, y_title))\n",
    "            label_list.append(str(i))\n",
    "            i=i+tempo\n",
    "    elif metric==\"window\":\n",
    "        i=100\n",
    "        for i in range(window):\n",
    "            filename = \"io_files/gm/\"+ data +\"/\"+ metric +\"/\"+ y_title +\"/\"+ static_part_of_name(nodes=nodes,\n",
    "                                            features=features,error=error,window=i,epoch=epoch)+\".csv\"\n",
    "            gm_list.append(import_metric(filename,y_title))\n",
    "\n",
    "            filename = \"io_files/fgm/\"+ data +\"/\"+ metric +\"/\"+ y_title +\"/\"+ static_part_of_name(nodes=nodes,\n",
    "                                            features=features,error=error,window=i,epoch=epoch)+\".csv\"\n",
    "            fgm_list.append(import_metric(filename, y_title))\n",
    "            label_list.append(str(i))\n",
    "            i=i+tempo\n",
    "    else:\n",
    "        raise Exception(\"Wrong metric: \" + metric)\n",
    "\n",
    "    plot_metrics( gm_list, fgm_list, label_list, y_title, metric) "
   ]
  },
  {
   "cell_type": "code",
   "execution_count": 15,
   "metadata": {
    "tags": [
     "hide-cell"
    ]
   },
   "outputs": [],
   "source": [
    "def plot_rounds( data:str, metric:str, nodes:int, features:int, error:int, window:int, epoch:int, tempo:str):\n",
    "    \n",
    "    gm_list =[]\n",
    "    fgm_list =[]\n",
    "    label_list=[]\n",
    "    i=tempo\n",
    "    \n",
    "    y_title=\"rounds\"\n",
    "    \n",
    "    if metric==\"nodes\":\n",
    "        for i in range(nodes):\n",
    "            filename = \"io_files/gm/\"+ data +\"/\"+ metric +\"/\"+ y_title +\"/\"+ static_part_of_name(nodes=i,\n",
    "                                            features=features,error=error,window=window,epoch=epoch)+\".csv\"\n",
    "            gm_list.append(import_metric(filename,y_title))\n",
    "\n",
    "            filename = \"io_files/fgm/\"+ data +\"/\"+ metric +\"/\"+ y_title +\"/\"+ static_part_of_name(nodes=i,\n",
    "                                            features=features,error=error,window=window,epoch=epoch)+\".csv\"\n",
    "            fgm_list.append(import_metric(filename, y_title))\n",
    "            label_list.append(str(i))\n",
    "            i=i+tempo\n",
    "    elif metric==\"features\":    \n",
    "        for i in range(features):\n",
    "            filename = \"io_files/gm/\"+ data +\"/\"+ metric +\"/\"+ y_title +\"/\"+ static_part_of_name(nodes=nodes,\n",
    "                                            features=i,error=error,window=window,epoch=epoch)+\".csv\"\n",
    "            gm_list.append(import_metric(filename,y_title))\n",
    "\n",
    "            filename = \"io_files/fgm/\"+ data +\"/\"+ metric +\"/\"+ y_title +\"/\"+ static_part_of_name(nodes=nodes,\n",
    "                                            features=i,error=error,window=window,epoch=epoch)+\".csv\"\n",
    "            fgm_list.append(import_metric(filename, y_title))\n",
    "            label_list.append(str(i))\n",
    "            i=i+tempo\n",
    "    elif metric==\"error\":\n",
    "        for i in range(error):\n",
    "            custom_i = i*0.01\n",
    "            filename = \"io_files/gm/\"+ data +\"/\"+ metric +\"/\"+ y_title +\"/\"+ static_part_of_name(nodes=nodes,\n",
    "                                            features=features,error=custom_i,window=window,epoch=epoch)+\".csv\"\n",
    "            gm_list.append(import_metric(filename,y_title))\n",
    "\n",
    "            filename = \"io_files/fgm/\"+ data +\"/\"+ metric +\"/\"+ y_title +\"/\"+ static_part_of_name(nodes=nodes,\n",
    "                                            features=features,error=custom_i,window=window,epoch=epoch)+\".csv\"\n",
    "            fgm_list.append(import_metric(filename, y_title))\n",
    "            label_list.append(str(i))\n",
    "            i=i+tempo\n",
    "    elif metric==\"window\":\n",
    "         for i in range(window):\n",
    "            filename = \"io_files/gm/\"+ data +\"/\"+ metric +\"/\"+ y_title +\"/\"+ static_part_of_name(nodes=nodes,\n",
    "                                            features=features,error=error,window=i,epoch=epoch)+\".csv\"\n",
    "            gm_list.append(import_metric(filename,y_title))\n",
    "\n",
    "            filename = \"io_files/fgm/\"+ data +\"/\"+ metric +\"/\"+ y_title +\"/\"+ static_part_of_name(nodes=nodes,\n",
    "                                            features=features,error=error,window=i,epoch=epoch)+\".csv\"\n",
    "            fgm_list.append(import_metric(filename, y_title))\n",
    "            label_list.append(str(i))\n",
    "            i=i+tempo\n",
    "    else:\n",
    "        raise Exception(\"Wrong metric: \" + metric)\n",
    "\n",
    "    plot_metrics( gm_list, fgm_list, label_list, y_title, metric) "
   ]
  },
  {
   "cell_type": "code",
   "execution_count": 16,
   "metadata": {
    "tags": [
     "hide-cell"
    ]
   },
   "outputs": [],
   "source": [
    "def plot_traffic( data:str, metric:str, nodes:int, features:int, error:int, window:int, epoch:int, tempo:str):\n",
    "    \n",
    "    gm_list =[]\n",
    "    fgm_list =[]\n",
    "    label_list=[]\n",
    "    i=tempo\n",
    "    \n",
    "    y_title=\"traffic\"\n",
    "    \n",
    "    if metric==\"nodes\":\n",
    "        for i in range(nodes):\n",
    "            filename = \"io_files/gm/\"+ data +\"/\"+ metric +\"/\"+ y_title +\"/\"+ static_part_of_name(nodes=i,\n",
    "                                            features=features,error=error,window=window,epoch=epoch)+\".csv\"\n",
    "            gm_list.append(import_metric(filename,y_title))\n",
    "\n",
    "            filename = \"io_files/fgm/\"+ data +\"/\"+ metric +\"/\"+ y_title +\"/\"+ static_part_of_name(nodes=i,\n",
    "                                            features=features,error=error,window=window,epoch=epoch)+\".csv\"\n",
    "            fgm_list.append(import_metric(filename, y_title))\n",
    "            label_list.append(str(i))\n",
    "            i=i+tempo\n",
    "    elif metric==\"features\":    \n",
    "        for i in range(features):\n",
    "            filename = \"io_files/gm/\"+ data +\"/\"+ metric +\"/\"+ y_title +\"/\"+ static_part_of_name(nodes=nodes,\n",
    "                                            features=i,error=error,window=window,epoch=epoch)+\".csv\"\n",
    "            gm_list.append(import_metric(filename,y_title))\n",
    "\n",
    "            filename = \"io_files/fgm/\"+ data +\"/\"+ metric +\"/\"+ y_title +\"/\"+ static_part_of_name(nodes=nodes,\n",
    "                                            features=i,error=error,window=window,epoch=epoch)+\".csv\"\n",
    "            fgm_list.append(import_metric(filename, y_title))\n",
    "            label_list.append(str(i))\n",
    "            i=i+tempo\n",
    "    elif metric==\"error\":\n",
    "        for i in range(error):\n",
    "            custom_i = i*0.01\n",
    "            filename = \"io_files/gm/\"+ data +\"/\"+ metric +\"/\"+ y_title +\"/\"+ static_part_of_name(nodes=nodes,\n",
    "                                            features=features,error=custom_i,window=window,epoch=epoch)+\".csv\"\n",
    "            gm_list.append(import_metric(filename,y_title))\n",
    "\n",
    "            filename = \"io_files/fgm/\"+ data +\"/\"+ metric +\"/\"+ y_title +\"/\"+ static_part_of_name(nodes=nodes,\n",
    "                                            features=features,error=custom_i,window=window,epoch=epoch)+\".csv\"\n",
    "            fgm_list.append(import_metric(filename, y_title))\n",
    "            label_list.append(str(i))\n",
    "            i=i+tempo\n",
    "    elif metric==\"window\":\n",
    "         for i in range(window):\n",
    "            filename = \"io_files/gm/\"+ data +\"/\"+ metric +\"/\"+ y_title +\"/\"+ static_part_of_name(nodes=nodes,\n",
    "                                            features=features,error=error,window=i,epoch=epoch)+\".csv\"\n",
    "            gm_list.append(import_metric(filename,y_title))\n",
    "\n",
    "            filename = \"io_files/fgm/\"+ data +\"/\"+ metric +\"/\"+ y_title +\"/\"+ static_part_of_name(nodes=nodes,\n",
    "                                            features=features,error=error,window=i,epoch=epoch)+\".csv\"\n",
    "            fgm_list.append(import_metric(filename, y_title))\n",
    "            label_list.append(str(i))\n",
    "            i=i+tempo\n",
    "    else:\n",
    "        raise Exception(\"Wrong metric: \" + metric)\n",
    "\n",
    "    plot_metrics( gm_list, fgm_list, label_list, y_title, metric) "
   ]
  },
  {
   "cell_type": "code",
   "execution_count": 17,
   "metadata": {
    "tags": [
     "hide-cell"
    ]
   },
   "outputs": [],
   "source": [
    "def plot_upstream_traffic( data:str, metric:str, nodes:int, features:int, error:int, window:int, epoch:int, tempo:str):\n",
    "    \n",
    "    gm_list =[]\n",
    "    fgm_list =[]\n",
    "    label_list=[]\n",
    "    i=tempo\n",
    "    \n",
    "    y_title=\"upstream\"\n",
    "    \n",
    "    if metric==\"nodes\":\n",
    "        for i in range(nodes):\n",
    "            filename = \"io_files/gm/\"+ data +\"/\"+ metric +\"/\"+ y_title +\"/\"+ static_part_of_name(nodes=i,\n",
    "                                            features=features,error=error,window=window,epoch=epoch)+\".csv\"\n",
    "            gm_list.append(import_metric(filename,y_title))\n",
    "\n",
    "            filename = \"io_files/fgm/\"+ data +\"/\"+ metric +\"/\"+ y_title +\"/\"+ static_part_of_name(nodes=i,\n",
    "                                            features=features,error=error,window=window,epoch=epoch)+\".csv\"\n",
    "            fgm_list.append(import_metric(filename, y_title))\n",
    "            label_list.append(str(i))\n",
    "            i=i+tempo\n",
    "    elif metric==\"features\":    \n",
    "        for i in range(features):\n",
    "            filename = \"io_files/gm/\"+ data +\"/\"+ metric +\"/\"+ y_title +\"/\"+ static_part_of_name(nodes=nodes,\n",
    "                                            features=i,error=error,window=window,epoch=epoch)+\".csv\"\n",
    "            gm_list.append(import_metric(filename,y_title))\n",
    "\n",
    "            filename = \"io_files/fgm/\"+ data +\"/\"+ metric +\"/\"+ y_title +\"/\"+ static_part_of_name(nodes=nodes,\n",
    "                                            features=i,error=error,window=window,epoch=epoch)+\".csv\"\n",
    "            fgm_list.append(import_metric(filename, y_title))\n",
    "            label_list.append(str(i))\n",
    "            i=i+tempo\n",
    "    elif metric==\"error\":\n",
    "        for i in range(error):\n",
    "            custom_i = i*0.01\n",
    "            filename = \"io_files/gm/\"+ data +\"/\"+ metric +\"/\"+ y_title +\"/\"+ static_part_of_name(nodes=nodes,\n",
    "                                            features=features,error=custom_i,window=window,epoch=epoch)+\".csv\"\n",
    "            gm_list.append(import_metric(filename,y_title))\n",
    "\n",
    "            filename = \"io_files/fgm/\"+ data +\"/\"+ metric +\"/\"+ y_title +\"/\"+ static_part_of_name(nodes=nodes,\n",
    "                                            features=features,error=custom_i,window=window,epoch=epoch)+\".csv\"\n",
    "            fgm_list.append(import_metric(filename, y_title))\n",
    "            label_list.append(str(i))\n",
    "            i=i+tempo\n",
    "    elif metric==\"window\":\n",
    "         for i in range(window):\n",
    "            filename = \"io_files/gm/\"+ data +\"/\"+ metric +\"/\"+ y_title +\"/\"+ static_part_of_name(nodes=nodes,\n",
    "                                            features=features,error=error,window=i,epoch=epoch)+\".csv\"\n",
    "            gm_list.append(import_metric(filename,y_title))\n",
    "\n",
    "            filename = \"io_files/fgm/\"+ data +\"/\"+ metric +\"/\"+ y_title +\"/\"+ static_part_of_name(nodes=nodes,\n",
    "                                            features=features,error=error,window=i,epoch=epoch)+\".csv\"\n",
    "            fgm_list.append(import_metric(filename, y_title))\n",
    "            label_list.append(str(i))\n",
    "            i=i+tempo\n",
    "    else:\n",
    "        raise Exception(\"Wrong metric: \" + metric)\n",
    "\n",
    "    plot_metrics( gm_list, fgm_list, label_list, y_title, metric) "
   ]
  },
  {
   "cell_type": "markdown",
   "metadata": {
    "pycharm": {
     "name": "#%% md\n"
    }
   },
   "source": [
    "### Diagrams for accuracy: "
   ]
  },
  {
   "cell_type": "code",
   "execution_count": 18,
   "metadata": {
    "pycharm": {
     "is_executing": true,
     "name": "#%%\n"
    }
   },
   "outputs": [
    {
     "ename": "FileNotFoundError",
     "evalue": "[Errno 2] File io_files/gm/drift/nodes/regret/k0_ft10_e5_win10000_ep4.csv does not exist: 'io_files/gm/drift/nodes/regret/k0_ft10_e5_win10000_ep4.csv'",
     "output_type": "error",
     "traceback": [
      "\u001B[1;31m---------------------------------------------------------------------------\u001B[0m",
      "\u001B[1;31mFileNotFoundError\u001B[0m                         Traceback (most recent call last)",
      "\u001B[1;32m<ipython-input-18-8eb8ed71b2cf>\u001B[0m in \u001B[0;36m<module>\u001B[1;34m\u001B[0m\n\u001B[1;32m----> 1\u001B[1;33m \u001B[0mplot_accuracy\u001B[0m\u001B[1;33m(\u001B[0m \u001B[0mdata\u001B[0m\u001B[1;33m=\u001B[0m\u001B[1;34m\"drift\"\u001B[0m\u001B[1;33m,\u001B[0m \u001B[0mmetric\u001B[0m\u001B[1;33m=\u001B[0m\u001B[1;34m\"nodes\"\u001B[0m\u001B[1;33m,\u001B[0m \u001B[0mnodes\u001B[0m\u001B[1;33m=\u001B[0m\u001B[1;36m100\u001B[0m\u001B[1;33m,\u001B[0m \u001B[0mfeatures\u001B[0m\u001B[1;33m=\u001B[0m\u001B[1;36m10\u001B[0m\u001B[1;33m,\u001B[0m \u001B[0merror\u001B[0m\u001B[1;33m=\u001B[0m\u001B[1;36m5\u001B[0m\u001B[1;33m,\u001B[0m \u001B[0mwindow\u001B[0m\u001B[1;33m=\u001B[0m\u001B[1;36m10000\u001B[0m\u001B[1;33m,\u001B[0m \u001B[0mepoch\u001B[0m\u001B[1;33m=\u001B[0m\u001B[1;36m4\u001B[0m\u001B[1;33m,\u001B[0m \u001B[0mtempo\u001B[0m\u001B[1;33m=\u001B[0m\u001B[1;36m30\u001B[0m\u001B[1;33m)\u001B[0m\u001B[1;33m\u001B[0m\u001B[1;33m\u001B[0m\u001B[0m\n\u001B[0m",
      "\u001B[1;32m<ipython-input-14-d3b341f726d2>\u001B[0m in \u001B[0;36mplot_accuracy\u001B[1;34m(data, metric, nodes, features, error, window, epoch, tempo)\u001B[0m\n\u001B[0;32m     12\u001B[0m             filename = \"io_files/gm/\"+ data +\"/\"+ metric +\"/\"+ y_title +\"/\"+ static_part_of_name(nodes=i,\n\u001B[0;32m     13\u001B[0m                                             features=features,error=error,window=window,epoch=epoch)+\".csv\"\n\u001B[1;32m---> 14\u001B[1;33m             \u001B[0mgm_list\u001B[0m\u001B[1;33m.\u001B[0m\u001B[0mappend\u001B[0m\u001B[1;33m(\u001B[0m\u001B[0mimport_metric\u001B[0m\u001B[1;33m(\u001B[0m\u001B[0mfilename\u001B[0m\u001B[1;33m,\u001B[0m\u001B[0my_title\u001B[0m\u001B[1;33m)\u001B[0m\u001B[1;33m)\u001B[0m\u001B[1;33m\u001B[0m\u001B[1;33m\u001B[0m\u001B[0m\n\u001B[0m\u001B[0;32m     15\u001B[0m \u001B[1;33m\u001B[0m\u001B[0m\n\u001B[0;32m     16\u001B[0m             filename = \"io_files/fgm/\"+ data +\"/\"+ metric +\"/\"+ y_title +\"/\"+ static_part_of_name(nodes=i,\n",
      "\u001B[1;32m<ipython-input-11-fb8fff67401c>\u001B[0m in \u001B[0;36mimport_metric\u001B[1;34m(file, name)\u001B[0m\n\u001B[0;32m      1\u001B[0m \u001B[1;32mdef\u001B[0m \u001B[0mimport_metric\u001B[0m\u001B[1;33m(\u001B[0m\u001B[0mfile\u001B[0m\u001B[1;33m,\u001B[0m \u001B[0mname\u001B[0m\u001B[1;33m)\u001B[0m\u001B[1;33m:\u001B[0m\u001B[1;33m\u001B[0m\u001B[1;33m\u001B[0m\u001B[0m\n\u001B[1;32m----> 2\u001B[1;33m     \u001B[0mdf\u001B[0m \u001B[1;33m=\u001B[0m \u001B[0mpd\u001B[0m\u001B[1;33m.\u001B[0m\u001B[0mread_csv\u001B[0m\u001B[1;33m(\u001B[0m\u001B[0mfile\u001B[0m\u001B[1;33m,\u001B[0m\u001B[0mnames\u001B[0m\u001B[1;33m=\u001B[0m\u001B[1;33m[\u001B[0m\u001B[0mname\u001B[0m\u001B[1;33m,\u001B[0m\u001B[1;34m\"time\"\u001B[0m\u001B[1;33m]\u001B[0m\u001B[1;33m)\u001B[0m\u001B[1;33m\u001B[0m\u001B[1;33m\u001B[0m\u001B[0m\n\u001B[0m\u001B[0;32m      3\u001B[0m     \u001B[1;32mreturn\u001B[0m \u001B[0mdf\u001B[0m\u001B[1;33m\u001B[0m\u001B[1;33m\u001B[0m\u001B[0m\n",
      "\u001B[1;32m~\\Anaconda3\\envs\\gm\\lib\\site-packages\\pandas\\io\\parsers.py\u001B[0m in \u001B[0;36mparser_f\u001B[1;34m(filepath_or_buffer, sep, delimiter, header, names, index_col, usecols, squeeze, prefix, mangle_dupe_cols, dtype, engine, converters, true_values, false_values, skipinitialspace, skiprows, skipfooter, nrows, na_values, keep_default_na, na_filter, verbose, skip_blank_lines, parse_dates, infer_datetime_format, keep_date_col, date_parser, dayfirst, cache_dates, iterator, chunksize, compression, thousands, decimal, lineterminator, quotechar, quoting, doublequote, escapechar, comment, encoding, dialect, error_bad_lines, warn_bad_lines, delim_whitespace, low_memory, memory_map, float_precision)\u001B[0m\n\u001B[0;32m    674\u001B[0m         )\n\u001B[0;32m    675\u001B[0m \u001B[1;33m\u001B[0m\u001B[0m\n\u001B[1;32m--> 676\u001B[1;33m         \u001B[1;32mreturn\u001B[0m \u001B[0m_read\u001B[0m\u001B[1;33m(\u001B[0m\u001B[0mfilepath_or_buffer\u001B[0m\u001B[1;33m,\u001B[0m \u001B[0mkwds\u001B[0m\u001B[1;33m)\u001B[0m\u001B[1;33m\u001B[0m\u001B[1;33m\u001B[0m\u001B[0m\n\u001B[0m\u001B[0;32m    677\u001B[0m \u001B[1;33m\u001B[0m\u001B[0m\n\u001B[0;32m    678\u001B[0m     \u001B[0mparser_f\u001B[0m\u001B[1;33m.\u001B[0m\u001B[0m__name__\u001B[0m \u001B[1;33m=\u001B[0m \u001B[0mname\u001B[0m\u001B[1;33m\u001B[0m\u001B[1;33m\u001B[0m\u001B[0m\n",
      "\u001B[1;32m~\\Anaconda3\\envs\\gm\\lib\\site-packages\\pandas\\io\\parsers.py\u001B[0m in \u001B[0;36m_read\u001B[1;34m(filepath_or_buffer, kwds)\u001B[0m\n\u001B[0;32m    446\u001B[0m \u001B[1;33m\u001B[0m\u001B[0m\n\u001B[0;32m    447\u001B[0m     \u001B[1;31m# Create the parser.\u001B[0m\u001B[1;33m\u001B[0m\u001B[1;33m\u001B[0m\u001B[1;33m\u001B[0m\u001B[0m\n\u001B[1;32m--> 448\u001B[1;33m     \u001B[0mparser\u001B[0m \u001B[1;33m=\u001B[0m \u001B[0mTextFileReader\u001B[0m\u001B[1;33m(\u001B[0m\u001B[0mfp_or_buf\u001B[0m\u001B[1;33m,\u001B[0m \u001B[1;33m**\u001B[0m\u001B[0mkwds\u001B[0m\u001B[1;33m)\u001B[0m\u001B[1;33m\u001B[0m\u001B[1;33m\u001B[0m\u001B[0m\n\u001B[0m\u001B[0;32m    449\u001B[0m \u001B[1;33m\u001B[0m\u001B[0m\n\u001B[0;32m    450\u001B[0m     \u001B[1;32mif\u001B[0m \u001B[0mchunksize\u001B[0m \u001B[1;32mor\u001B[0m \u001B[0miterator\u001B[0m\u001B[1;33m:\u001B[0m\u001B[1;33m\u001B[0m\u001B[1;33m\u001B[0m\u001B[0m\n",
      "\u001B[1;32m~\\Anaconda3\\envs\\gm\\lib\\site-packages\\pandas\\io\\parsers.py\u001B[0m in \u001B[0;36m__init__\u001B[1;34m(self, f, engine, **kwds)\u001B[0m\n\u001B[0;32m    878\u001B[0m             \u001B[0mself\u001B[0m\u001B[1;33m.\u001B[0m\u001B[0moptions\u001B[0m\u001B[1;33m[\u001B[0m\u001B[1;34m\"has_index_names\"\u001B[0m\u001B[1;33m]\u001B[0m \u001B[1;33m=\u001B[0m \u001B[0mkwds\u001B[0m\u001B[1;33m[\u001B[0m\u001B[1;34m\"has_index_names\"\u001B[0m\u001B[1;33m]\u001B[0m\u001B[1;33m\u001B[0m\u001B[1;33m\u001B[0m\u001B[0m\n\u001B[0;32m    879\u001B[0m \u001B[1;33m\u001B[0m\u001B[0m\n\u001B[1;32m--> 880\u001B[1;33m         \u001B[0mself\u001B[0m\u001B[1;33m.\u001B[0m\u001B[0m_make_engine\u001B[0m\u001B[1;33m(\u001B[0m\u001B[0mself\u001B[0m\u001B[1;33m.\u001B[0m\u001B[0mengine\u001B[0m\u001B[1;33m)\u001B[0m\u001B[1;33m\u001B[0m\u001B[1;33m\u001B[0m\u001B[0m\n\u001B[0m\u001B[0;32m    881\u001B[0m \u001B[1;33m\u001B[0m\u001B[0m\n\u001B[0;32m    882\u001B[0m     \u001B[1;32mdef\u001B[0m \u001B[0mclose\u001B[0m\u001B[1;33m(\u001B[0m\u001B[0mself\u001B[0m\u001B[1;33m)\u001B[0m\u001B[1;33m:\u001B[0m\u001B[1;33m\u001B[0m\u001B[1;33m\u001B[0m\u001B[0m\n",
      "\u001B[1;32m~\\Anaconda3\\envs\\gm\\lib\\site-packages\\pandas\\io\\parsers.py\u001B[0m in \u001B[0;36m_make_engine\u001B[1;34m(self, engine)\u001B[0m\n\u001B[0;32m   1112\u001B[0m     \u001B[1;32mdef\u001B[0m \u001B[0m_make_engine\u001B[0m\u001B[1;33m(\u001B[0m\u001B[0mself\u001B[0m\u001B[1;33m,\u001B[0m \u001B[0mengine\u001B[0m\u001B[1;33m=\u001B[0m\u001B[1;34m\"c\"\u001B[0m\u001B[1;33m)\u001B[0m\u001B[1;33m:\u001B[0m\u001B[1;33m\u001B[0m\u001B[1;33m\u001B[0m\u001B[0m\n\u001B[0;32m   1113\u001B[0m         \u001B[1;32mif\u001B[0m \u001B[0mengine\u001B[0m \u001B[1;33m==\u001B[0m \u001B[1;34m\"c\"\u001B[0m\u001B[1;33m:\u001B[0m\u001B[1;33m\u001B[0m\u001B[1;33m\u001B[0m\u001B[0m\n\u001B[1;32m-> 1114\u001B[1;33m             \u001B[0mself\u001B[0m\u001B[1;33m.\u001B[0m\u001B[0m_engine\u001B[0m \u001B[1;33m=\u001B[0m \u001B[0mCParserWrapper\u001B[0m\u001B[1;33m(\u001B[0m\u001B[0mself\u001B[0m\u001B[1;33m.\u001B[0m\u001B[0mf\u001B[0m\u001B[1;33m,\u001B[0m \u001B[1;33m**\u001B[0m\u001B[0mself\u001B[0m\u001B[1;33m.\u001B[0m\u001B[0moptions\u001B[0m\u001B[1;33m)\u001B[0m\u001B[1;33m\u001B[0m\u001B[1;33m\u001B[0m\u001B[0m\n\u001B[0m\u001B[0;32m   1115\u001B[0m         \u001B[1;32melse\u001B[0m\u001B[1;33m:\u001B[0m\u001B[1;33m\u001B[0m\u001B[1;33m\u001B[0m\u001B[0m\n\u001B[0;32m   1116\u001B[0m             \u001B[1;32mif\u001B[0m \u001B[0mengine\u001B[0m \u001B[1;33m==\u001B[0m \u001B[1;34m\"python\"\u001B[0m\u001B[1;33m:\u001B[0m\u001B[1;33m\u001B[0m\u001B[1;33m\u001B[0m\u001B[0m\n",
      "\u001B[1;32m~\\Anaconda3\\envs\\gm\\lib\\site-packages\\pandas\\io\\parsers.py\u001B[0m in \u001B[0;36m__init__\u001B[1;34m(self, src, **kwds)\u001B[0m\n\u001B[0;32m   1889\u001B[0m         \u001B[0mkwds\u001B[0m\u001B[1;33m[\u001B[0m\u001B[1;34m\"usecols\"\u001B[0m\u001B[1;33m]\u001B[0m \u001B[1;33m=\u001B[0m \u001B[0mself\u001B[0m\u001B[1;33m.\u001B[0m\u001B[0musecols\u001B[0m\u001B[1;33m\u001B[0m\u001B[1;33m\u001B[0m\u001B[0m\n\u001B[0;32m   1890\u001B[0m \u001B[1;33m\u001B[0m\u001B[0m\n\u001B[1;32m-> 1891\u001B[1;33m         \u001B[0mself\u001B[0m\u001B[1;33m.\u001B[0m\u001B[0m_reader\u001B[0m \u001B[1;33m=\u001B[0m \u001B[0mparsers\u001B[0m\u001B[1;33m.\u001B[0m\u001B[0mTextReader\u001B[0m\u001B[1;33m(\u001B[0m\u001B[0msrc\u001B[0m\u001B[1;33m,\u001B[0m \u001B[1;33m**\u001B[0m\u001B[0mkwds\u001B[0m\u001B[1;33m)\u001B[0m\u001B[1;33m\u001B[0m\u001B[1;33m\u001B[0m\u001B[0m\n\u001B[0m\u001B[0;32m   1892\u001B[0m         \u001B[0mself\u001B[0m\u001B[1;33m.\u001B[0m\u001B[0munnamed_cols\u001B[0m \u001B[1;33m=\u001B[0m \u001B[0mself\u001B[0m\u001B[1;33m.\u001B[0m\u001B[0m_reader\u001B[0m\u001B[1;33m.\u001B[0m\u001B[0munnamed_cols\u001B[0m\u001B[1;33m\u001B[0m\u001B[1;33m\u001B[0m\u001B[0m\n\u001B[0;32m   1893\u001B[0m \u001B[1;33m\u001B[0m\u001B[0m\n",
      "\u001B[1;32mpandas\\_libs\\parsers.pyx\u001B[0m in \u001B[0;36mpandas._libs.parsers.TextReader.__cinit__\u001B[1;34m()\u001B[0m\n",
      "\u001B[1;32mpandas\\_libs\\parsers.pyx\u001B[0m in \u001B[0;36mpandas._libs.parsers.TextReader._setup_parser_source\u001B[1;34m()\u001B[0m\n",
      "\u001B[1;31mFileNotFoundError\u001B[0m: [Errno 2] File io_files/gm/drift/nodes/regret/k0_ft10_e5_win10000_ep4.csv does not exist: 'io_files/gm/drift/nodes/regret/k0_ft10_e5_win10000_ep4.csv'"
     ]
    }
   ],
   "source": [
    "plot_accuracy( data=\"drift\", metric=\"nodes\", nodes=100, features=10, error=5, window=10000, epoch=4, tempo=30)"
   ]
  },
  {
   "cell_type": "markdown",
   "metadata": {
    "pycharm": {
     "name": "#%% md\n"
    }
   },
   "source": [
    "### Diagrams for rounds:"
   ]
  },
  {
   "cell_type": "code",
   "execution_count": null,
   "metadata": {
    "pycharm": {
     "name": "#%%\n"
    }
   },
   "outputs": [],
   "source": [
    "plot_rounds( data=\"drift\", metric=\"nodes\", nodes=100, features=10, error=5, window=10000, epoch=4, tempo=30)"
   ]
  },
  {
   "cell_type": "markdown",
   "metadata": {
    "pycharm": {
     "name": "#%% md\n"
    }
   },
   "source": [
    "### Diagrams for total traffic (in bytes):"
   ]
  },
  {
   "cell_type": "code",
   "execution_count": null,
   "metadata": {
    "pycharm": {
     "name": "#%%\n"
    }
   },
   "outputs": [],
   "source": [
    "plot_traffic( data=\"drift\", metric=\"nodes\", nodes=100, features=10, error=5, window=10000, epoch=4, tempo=30)"
   ]
  },
  {
   "cell_type": "markdown",
   "metadata": {
    "pycharm": {
     "name": "#%% md\n"
    }
   },
   "source": [
    "### Diagrams for upstream traffic (in bytes):"
   ]
  },
  {
   "cell_type": "code",
   "execution_count": null,
   "metadata": {
    "pycharm": {
     "name": "#%%\n"
    }
   },
   "outputs": [],
   "source": [
    "plot_upstream_traffic( data=\"drift\", metric=\"nodes\", nodes=100, features=10, error=5, window=10000, epoch=4, tempo=30)"
   ]
  }
 ],
 "metadata": {
  "hide_input": false,
  "kernelspec": {
   "display_name": "Python 3",
   "language": "python",
   "name": "python3"
  },
  "language_info": {
   "codemirror_mode": {
    "name": "ipython",
    "version": 3
   },
   "file_extension": ".py",
   "mimetype": "text/x-python",
   "name": "python",
   "nbconvert_exporter": "python",
   "pygments_lexer": "ipython3",
   "version": "3.8.2"
  },
  "toc": {
   "base_numbering": 1,
   "nav_menu": {},
   "number_sections": true,
   "sideBar": true,
   "skip_h1_title": false,
   "title_cell": "Table of Contents",
   "title_sidebar": "Contents",
   "toc_cell": false,
   "toc_position": {
    "height": "calc(100% - 180px)",
    "left": "10px",
    "top": "150px",
    "width": "194.575px"
   },
   "toc_section_display": true,
   "toc_window_display": true
  }
 },
 "nbformat": 4,
 "nbformat_minor": 1
}