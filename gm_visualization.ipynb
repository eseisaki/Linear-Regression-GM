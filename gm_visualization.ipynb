{
 "cells": [
  {
   "cell_type": "code",
   "execution_count": 1,
   "metadata": {},
   "outputs": [
    {
     "data": {
      "text/plain": "<IPython.core.display.HTML object>",
      "text/html": "<style>#notebook { padding-top:0px !important; } .container { width:100% !important; } .end_space { min-height:0px !important; } td {font-size: 25px}</style>"
     },
     "metadata": {},
     "output_type": "display_data"
    }
   ],
   "source": [
    "# full screen layout\n",
    "from IPython.core.display import display, HTML\n",
    "display(HTML(\n",
    "    '<style>'\n",
    "        '#notebook { padding-top:0px !important; } ' \n",
    "        '.container { width:100% !important; } '\n",
    "        '.end_space { min-height:0px !important; } '\n",
    "        'td {font-size: 25px}'\n",
    "    '</style>'\n",
    "))"
   ]
  },
  {
   "cell_type": "code",
   "execution_count": 2,
   "metadata": {
    "pycharm": {
     "name": "#%%\n"
    }
   },
   "outputs": [
    {
     "data": {
      "text/plain": "<IPython.core.display.HTML object>",
      "text/html": "<style>#notebook { padding-top:0px !important; } .container { width:100% !important; } .end_space { min-height:0px !important; } </style>"
     },
     "metadata": {},
     "output_type": "display_data"
    }
   ],
   "source": [
    "# import libraries\n",
    "import warnings\n",
    "warnings.filterwarnings(\"ignore\")\n",
    "import constants as const\n",
    "import matplotlib.pyplot as plt\n",
    "import numpy as np\n",
    "import pandas as pd"
   ]
  },
  {
   "cell_type": "code",
   "execution_count": null,
   "metadata": {},
   "outputs": [],
   "source": [
    "# useful functions for plotting\n",
    "def create_plot(x,y,x_title,y_title,full_title, fig_name):\n",
    "    \n",
    "    fig,ax = plt.subplots(figsize = (18,14))\n",
    "    ax.plot(x,y,color ='red',linewidth=3)\n",
    "    \n",
    "    ax.grid(True,linestyle='dashdot', color='grey')\n",
    "    ax.tick_params(labelcolor='red', labelsize=15,pad=10,direction = 'inout', width=3)\n",
    "    \n",
    "    ax.set_ylim(0,20)\n",
    "    \n",
    "    ax.set_xlabel(x_title,fontsize=20)\n",
    "    ax.set_ylabel(y_title,fontsize=20)\n",
    "    ax.set_title(full_title,fontsize=25,pad =15)\n",
    "\n",
    "    plt.savefig(fig_name)\n",
    "    \n",
    "def create_merged_plot(y1,y2,x,x_title,y_title,full_title,cases, xlim, fig_name):\n",
    "    \n",
    "    fig,ax = plt.subplots(figsize = (18,14))\n",
    "    \n",
    "    ax.plot(x,y1,linewidth=3, label=cases[0],color = '#d62728')\n",
    "    ax.plot(x,y2,linewidth=3, label=cases[1],color = '#17becf')\n",
    "    plt.fill_between(x, y1, y2, color=\"grey\", alpha=\"0.3\")\n",
    "    \n",
    "    ax.legend(fontsize=20)\n",
    "    ax.grid(True,linestyle='dashdot', color='grey')\n",
    "    ax.tick_params(labelcolor='red', labelsize=15,pad=10,direction = 'inout', width=3)\n",
    "    \n",
    "    # ax.set_xlim(100, 5000)\n",
    "    # ax.set_ylim(222,224)\n",
    "\n",
    "    ax.set_xlabel(x_title,fontsize=20)\n",
    "    ax.set_ylabel(y_title,fontsize=20)\n",
    "    ax.set_title(full_title,fontsize=25,pad =15)\n",
    "    \n",
    "    plt.savefig(fig_name)\n",
    "    "
   ]
  },
  {
   "cell_type": "code",
   "execution_count": null,
   "metadata": {
    "pycharm": {
     "name": "#%%\n"
    }
   },
   "outputs": [],
   "source": [
    "# useful functions for data evaluation\n",
    "def import_metric(file, name):\n",
    "    df = pd.read_csv(file,headers=[name,\"time\"])\n",
    "    return df\n",
    "\n",
    "def plot_metrics(arr1,arr2,head1,head2,title, fig_name):\n",
    "    merged = pd.merge(arr1, arr2,on='time',how='outer').sort_values(by='time')\n",
    "\n",
    "    x_axis = merged['time']\n",
    "    y1 = merged[head1].fillna(method='ffill')\n",
    "    y2 = merged[head2].fillna(method='ffill')\n",
    "\n",
    "    create_merged_plot(y1=y1,\n",
    "                       y2=y2,\n",
    "                       x=x_axis,\n",
    "                       x_title='unit time',\n",
    "                       y_title='model norm ||w||',\n",
    "                       full_title=title,\n",
    "                       cases=[head1,head2],\n",
    "                       xlim=1000,\n",
    "                       fig_name=fig_name)"
   ]
  },
  {
   "cell_type": "code",
   "execution_count": null,
   "metadata": {
    "pycharm": {
     "name": "#%%\n"
    }
   },
   "outputs": [],
   "source": [
    "# import metrics\n",
    "MAPE_central = import_metric(\"tests/centralizedMAPE.csv\",\"MAPE_central\")\n",
    "R_central = import_metric(\"tests/centralizedR.csv\",\"R_central\")\n",
    "\n",
    "MAPE_gm=import_metric(\"tests/gmMAPE.csv\",\"MAPE_gm\")\n",
    "R_gm =import_metric(\"tests/gmR.csv\",\"R_gm\")\n",
    "\n",
    "MAPE_fgm=import_metric(\"tests/fgmMAPE.csv\",\"MAPE_fgm\")\n",
    "R_fgm =import_metric(\"tests/fgmR.csv\",\"R_fgm\")\n"
   ]
  },
  {
   "cell_type": "markdown",
   "metadata": {},
   "source": [
    "# Centralized vs GM (Accuracy)"
   ]
  },
  {
   "cell_type": "code",
   "execution_count": null,
   "metadata": {
    "pycharm": {
     "name": "#%%\n"
    }
   },
   "outputs": [],
   "source": [
    "# plot diagrams\n",
    "plot_metrics(MAPE_central,MAPE_gm,\n",
    "             'MAPE_central',\n",
    "             'MAPE_gm',\n",
    "             'MAPE - Centralized with OLS vs GM',\n",
    "             'figures/216_A1')\n",
    "\n",
    "plot_metrics(R_central,R_gm,\n",
    "             'R_central',\n",
    "             'R_gm',\n",
    "             'R - Centralized with OLS vs GM',\n",
    "             'figures/216_A1')"
   ]
  },
  {
   "cell_type": "markdown",
   "metadata": {
    "pycharm": {
     "name": "#%% md\n"
    }
   },
   "source": [
    "# Centralized vs FGM (Accuracy)"
   ]
  },
  {
   "cell_type": "code",
   "execution_count": null,
   "outputs": [],
   "source": [
    "# plot diagrams\n",
    "plot_metrics(MAPE_central,MAPE_fgm,\n",
    "             'MAPE_central',\n",
    "             'MAPE_fgm',\n",
    "             'MAPE - Centralized with OLS vs FGM',\n",
    "             'figures/216_B1')\n",
    "\n",
    "plot_metrics(R_central,R_fgm,\n",
    "             'R_central',\n",
    "             'R_fgm',\n",
    "             'R - Centralized with OLS vs FGM',\n",
    "             'figures/216_B1')"
   ],
   "metadata": {
    "collapsed": false,
    "pycharm": {
     "name": "#%%\n"
    }
   }
  }
 ],
 "metadata": {
  "kernelspec": {
   "display_name": "Python 3",
   "language": "python",
   "name": "python3"
  },
  "language_info": {
   "codemirror_mode": {
    "name": "ipython",
    "version": 3
   },
   "file_extension": ".py",
   "mimetype": "text/x-python",
   "name": "python",
   "nbconvert_exporter": "python",
   "pygments_lexer": "ipython3",
   "version": "3.8.2"
  }
 },
 "nbformat": 4,
 "nbformat_minor": 1
}